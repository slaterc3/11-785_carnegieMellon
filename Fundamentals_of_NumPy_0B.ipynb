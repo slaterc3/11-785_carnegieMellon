{
  "cells": [
    {
      "cell_type": "markdown",
      "metadata": {
        "id": "view-in-github",
        "colab_type": "text"
      },
      "source": [
        "<a href=\"https://colab.research.google.com/github/slaterc3/11-785_carnegieMellon/blob/main/Fundamentals_of_NumPy_0B.ipynb\" target=\"_parent\"><img src=\"https://colab.research.google.com/assets/colab-badge.svg\" alt=\"Open In Colab\"/></a>"
      ]
    },
    {
      "cell_type": "markdown",
      "metadata": {
        "id": "NtHhe7dJ9vlG"
      },
      "source": [
        "# Recitation 0B - Fundamentals of NumPy\n",
        "## Table of Contents\n",
        "1. What is NumPy?\n",
        "2. Installation\n",
        "3. Initialization\n",
        "4. Accessing\n",
        "5. Modifying data\n",
        "6. Pivoting data\n",
        "7. Combining data\n",
        "8. Math operations"
      ]
    },
    {
      "cell_type": "markdown",
      "metadata": {
        "id": "0KFQ9TEr9vlK"
      },
      "source": [
        "## 1. What is NumPy?"
      ]
    },
    {
      "cell_type": "markdown",
      "metadata": {
        "id": "6RQAvjtH9vlK"
      },
      "source": [
        "NumPy is the fundamental package for scientific computing in Python. \n",
        "It is a Python library that provides and an assortment of operations for fast operations on arrays - from mathematical, logical operations to basic linear algebra, random simulation and much more."
      ]
    },
    {
      "cell_type": "markdown",
      "metadata": {
        "id": "B2RkZiNe9vlL"
      },
      "source": [
        "## 2. Installation\n",
        "Generally NumPy is pre-installed on CoLab/AWS. You should first check if NumPy is available and its version.\n",
        "\n",
        "To manually install Numpy, please follow the instructions below."
      ]
    },
    {
      "cell_type": "code",
      "execution_count": 2,
      "metadata": {
        "id": "XYxAvr6T9vlL",
        "outputId": "2e2ed6dc-3b69-4400-a3aa-c1b13eb889bb",
        "colab": {
          "base_uri": "https://localhost:8080/"
        }
      },
      "outputs": [
        {
          "output_type": "stream",
          "name": "stdout",
          "text": [
            "Name: numpy\n",
            "Version: 1.22.4\n",
            "Summary: NumPy is the fundamental package for array computing with Python.\n",
            "Home-page: https://www.numpy.org\n",
            "Author: Travis E. Oliphant et al.\n",
            "Author-email: \n",
            "License: BSD\n",
            "Location: /usr/local/lib/python3.9/dist-packages\n",
            "Requires: \n",
            "Required-by: albumentations, altair, arviz, astropy, autograd, blis, bokeh, chex, cmdstanpy, contourpy, cufflinks, cvxpy, datascience, db-dtypes, dopamine-rl, ecos, flax, folium, gensim, gym, h5py, holoviews, hyperopt, imageio, imbalanced-learn, imgaug, jax, jaxlib, librosa, lightgbm, matplotlib, matplotlib-venn, missingno, mizani, ml-dtypes, mlxtend, moviepy, music21, nibabel, numba, numexpr, opencv-contrib-python, opencv-python, opencv-python-headless, opt-einsum, optax, orbax, osqp, pandas, pandas-gbq, patsy, plotnine, prophet, pyarrow, pycocotools, pyerfa, pymc, pytensor, python-louvain, PyWavelets, qdldl, qudida, scikit-image, scikit-learn, scipy, scs, seaborn, shapely, sklearn-pandas, soxr, spacy, statsmodels, tables, tensorboard, tensorflow, tensorflow-datasets, tensorflow-hub, tensorflow-probability, tensorstore, thinc, tifffile, torchtext, torchvision, wordcloud, xarray, xarray-einstats, xgboost, yellowbrick, yfinance\n",
            "Looking in indexes: https://pypi.org/simple, https://us-python.pkg.dev/colab-wheels/public/simple/\n",
            "Requirement already satisfied: numpy in /usr/local/lib/python3.9/dist-packages (1.22.4)\n"
          ]
        }
      ],
      "source": [
        "# Check the installation of NumPy\n",
        "!pip show numpy\n",
        "\n",
        "# Install NumPy\n",
        "!pip install numpy\n",
        "\n",
        "# Import NumPy \n",
        "import numpy as np"
      ]
    },
    {
      "cell_type": "markdown",
      "metadata": {
        "id": "ojnaCBiS9vlM"
      },
      "source": [
        "## 3. Initialization"
      ]
    },
    {
      "cell_type": "markdown",
      "metadata": {
        "id": "mjkcVsvs9vlN"
      },
      "source": [
        "### a. Intrinsic NumPy array creation functions\n"
      ]
    },
    {
      "cell_type": "markdown",
      "metadata": {
        "id": "hIzR4X3v9vlN"
      },
      "source": [
        "#### 1D array creation functions"
      ]
    },
    {
      "cell_type": "code",
      "execution_count": 3,
      "metadata": {
        "id": "LKbY47au9vlO",
        "colab": {
          "base_uri": "https://localhost:8080/"
        },
        "outputId": "ef4cefbf-ac84-470e-aa59-3c24a454345d"
      },
      "outputs": [
        {
          "output_type": "stream",
          "name": "stdout",
          "text": [
            "An array given range is \n",
            " [0 1 2 3 4 5 6 7 8 9]  with dimensions  (10,) \n",
            "\n",
            "An evenly spaced array given range is \n",
            " [2.   2.25 2.5  2.75 3.  ]  with dimensions  (5,) \n",
            "\n"
          ]
        }
      ],
      "source": [
        "# return evenly spaced values within a given interval\n",
        "range_arr = np.arange(10)\n",
        "print(\"An array given range is \\n\", range_arr, \" with dimensions \", range_arr.shape, \"\\n\")\n",
        "\n",
        "# return evenly spaced numbers over a specified interval\n",
        "linspace_arr = np.linspace(2.0, 3.0, num=5, endpoint=True)\n",
        "print(\"An evenly spaced array given range is \\n\", linspace_arr, \" with dimensions \", linspace_arr.shape, \"\\n\")"
      ]
    },
    {
      "cell_type": "markdown",
      "metadata": {
        "id": "pvKnUk5K9vlO"
      },
      "source": [
        "#### General ndarray creation functions"
      ]
    },
    {
      "cell_type": "code",
      "execution_count": 4,
      "metadata": {
        "id": "Qz9RZaAa9vlP",
        "colab": {
          "base_uri": "https://localhost:8080/"
        },
        "outputId": "55a48002-7b79-4147-d223-9e7f41e58a47"
      },
      "outputs": [
        {
          "output_type": "stream",
          "name": "stdout",
          "text": [
            "An empty array is \n",
            " [[1.82958279e-316 0.00000000e+000]\n",
            " [6.90701496e-310 6.90701496e-310]]  with dimensions  (2, 2) \n",
            "\n",
            "A zeros array is \n",
            " [[0. 0. 0.]\n",
            " [0. 0. 0.]]  with dimensions  (2, 3) \n",
            "\n",
            "A ones array is \n",
            " [[1. 1.]\n",
            " [1. 1.]\n",
            " [1. 1.]\n",
            " [1. 1.]]  with dimensions  (4, 2) \n",
            "\n"
          ]
        }
      ],
      "source": [
        "# initialize an empty array with size 2 x 2\n",
        "empty_arr = np.empty((2, 2))\n",
        "print(\"An empty array is \\n\", empty_arr, \" with dimensions \", empty_arr.shape, \"\\n\")\n",
        "\n",
        "# initialize an all zero array with size 2 x 3\n",
        "zeros_arr = np.zeros((2, 3))\n",
        "print(\"A zeros array is \\n\", zeros_arr, \" with dimensions \", zeros_arr.shape, \"\\n\")\n",
        "\n",
        "# initialize an all one array with size 4 x 2\n",
        "ones_arr = np.ones((4, 2))\n",
        "print(\"A ones array is \\n\", ones_arr, \" with dimensions \", ones_arr.shape, \"\\n\")"
      ]
    },
    {
      "cell_type": "code",
      "execution_count": 5,
      "metadata": {
        "id": "RpZVAcRw9vlP",
        "colab": {
          "base_uri": "https://localhost:8080/"
        },
        "outputId": "f5d10e63-c4a7-4970-b98e-0f660f2e4ccb"
      },
      "outputs": [
        {
          "output_type": "stream",
          "name": "stdout",
          "text": [
            "A zero like array is \n",
            " [[0. 0.]\n",
            " [0. 0.]\n",
            " [0. 0.]\n",
            " [0. 0.]]  with dimensions  (4, 2) \n",
            "\n",
            "A ones like array is \n",
            " [[1. 1. 1.]\n",
            " [1. 1. 1.]]  with dimensions  (2, 3) \n",
            "\n"
          ]
        }
      ],
      "source": [
        "# return an array of zeros with the same shape and type as a given array\n",
        "zeros_like_arr = np.zeros_like(ones_arr)\n",
        "print(\"A zero like array is \\n\", zeros_like_arr, \" with dimensions \", zeros_like_arr.shape, \"\\n\")\n",
        "\n",
        "# return an array of ones with the same shape and type as a given array\n",
        "ones_like_arr = np.ones_like(zeros_arr)\n",
        "print(\"A ones like array is \\n\", ones_like_arr, \" with dimensions \", ones_like_arr.shape, \"\\n\")"
      ]
    },
    {
      "cell_type": "code",
      "execution_count": 6,
      "metadata": {
        "id": "22gxD4_79vlQ",
        "colab": {
          "base_uri": "https://localhost:8080/"
        },
        "outputId": "7490d337-0d37-4f6e-8022-c8b5f25b0ca3"
      },
      "outputs": [
        {
          "output_type": "stream",
          "name": "stdout",
          "text": [
            "A filled array is \n",
            " [[10 10]\n",
            " [10 10]]  with dimensions  (2, 2) \n",
            "\n",
            "A full like array is \n",
            " [[0.1 0.1 0.1]\n",
            " [0.1 0.1 0.1]]  with dimensions  (2, 3) \n",
            "\n"
          ]
        }
      ],
      "source": [
        "# return a new array of given shape and type, filled with fill_value\n",
        "tens_arr = np.full((2,2), 10)\n",
        "# np.full()\n",
        "print(\"A filled array is \\n\", tens_arr, \" with dimensions \", tens_arr.shape, \"\\n\")\n",
        "\n",
        "# Return a full array with the same shape and type as a given array.\n",
        "full_like_arr = np.full_like(zeros_arr, 0.1, dtype=np.double)\n",
        "print(\"A full like array is \\n\", full_like_arr, \" with dimensions \", full_like_arr.shape, \"\\n\")"
      ]
    },
    {
      "cell_type": "markdown",
      "metadata": {
        "id": "tT0Zf_R29vlQ"
      },
      "source": [
        "### b. Create an array from existing data"
      ]
    },
    {
      "cell_type": "markdown",
      "metadata": {
        "id": "hQZpXrow9vlQ"
      },
      "source": [
        "#### Conversion from other Python structures (i.e. lists and tuples)"
      ]
    },
    {
      "cell_type": "code",
      "execution_count": 7,
      "metadata": {
        "id": "1PlZGruc9vlQ",
        "colab": {
          "base_uri": "https://localhost:8080/"
        },
        "outputId": "4f724fe2-7e76-426b-89f8-fba827efe7e5"
      },
      "outputs": [
        {
          "output_type": "stream",
          "name": "stdout",
          "text": [
            "An array from given list is \n",
            " [1 2 3 4]  with dimensions  (4,) \n",
            "\n"
          ]
        }
      ],
      "source": [
        "# initialize an array with the given list\n",
        "new_list = [1, 2, 3, 4]\n",
        "arr_from_list = np.array(new_list)\n",
        "print(\"An array from given list is \\n\", arr_from_list, \" with dimensions \", arr_from_list.shape, \"\\n\")"
      ]
    },
    {
      "cell_type": "markdown",
      "metadata": {
        "id": "R12ji-7n9vlR"
      },
      "source": [
        "#### Reading arrays from disk"
      ]
    },
    {
      "cell_type": "code",
      "execution_count": 21,
      "metadata": {
        "id": "8xBvKJhs9vlR"
      },
      "outputs": [],
      "source": [
        "# initialize an array by loading data from a txt file\n",
        "#txt_arr = np.loadtxt(path_to_txt_file)\n",
        "\n",
        "# initialize an array by loading data from a npy file\n",
        "#loaded_arr = np.load(path_to_npy_file)"
      ]
    },
    {
      "cell_type": "markdown",
      "metadata": {
        "id": "e0qFoIfl9vlR"
      },
      "source": [
        "### c. Use of special library functions (e.g., random)"
      ]
    },
    {
      "cell_type": "code",
      "execution_count": 8,
      "metadata": {
        "id": "uhzeFPEV9vlR",
        "colab": {
          "base_uri": "https://localhost:8080/"
        },
        "outputId": "e4f15839-606d-4533-beca-401a7cc9b5e1"
      },
      "outputs": [
        {
          "output_type": "stream",
          "name": "stdout",
          "text": [
            "Random integer array [[7 5 8 4]\n",
            " [8 3 8 9]\n",
            " [1 5 7 6]\n",
            " [8 9 7 3]] of shape  (4, 4)\n",
            "Random integer array with seed [[5 0 3 3]\n",
            " [7 9 3 5]\n",
            " [2 4 7 6]\n",
            " [8 8 1 6]] of shape  (4, 4)\n"
          ]
        }
      ],
      "source": [
        "a = np.random.randint(0, 10, size = (4,4))\n",
        "print(\"Random integer array\", a, \"of shape \", a.shape)\n",
        "\n",
        "np.random.seed(0)\n",
        "a = np.random.randint(0, 10, size = (4,4))\n",
        "print(\"Random integer array with seed\", a, \"of shape \", a.shape)"
      ]
    },
    {
      "cell_type": "code",
      "execution_count": 9,
      "metadata": {
        "id": "Z-gjnEoY9vlS",
        "colab": {
          "base_uri": "https://localhost:8080/"
        },
        "outputId": "0a77c352-474b-472a-9f06-38503cfe8e8e"
      },
      "outputs": [
        {
          "output_type": "stream",
          "name": "stdout",
          "text": [
            "A random array from a uniform distribution is \n",
            " [[0.81216873 0.47997717]\n",
            " [0.3927848  0.83607876]\n",
            " [0.33739616 0.64817187]]  with dimensions  (3, 2) \n",
            "\n",
            "A random array from a gaussian distribution is \n",
            " [[4.07093342 2.69134213 6.53594297 2.68987334]\n",
            " [8.02039272 3.57471634 4.51223434 7.06789956]]\n",
            "with mu:  3\n",
            "with sigma:  2.5\n",
            "with dimensions  (2, 4)\n"
          ]
        }
      ],
      "source": [
        "# create an array of the given shape and populate it with random samples from a uniform distribution over [0, 1)\n",
        "uniform_rand_arr = np.random.rand(3,2)\n",
        "print(\"A random array from a uniform distribution is \\n\", uniform_rand_arr, \" with dimensions \", uniform_rand_arr.shape, \"\\n\")\n",
        "\n",
        "# For random samples from N(\\mu, \\sigma^2), use:\n",
        "# sigma * np.random.randn(...) + mu\n",
        "mu = 3\n",
        "sigma =2.5\n",
        "sample_normal_arr = mu + sigma * np.random.randn(2, 4)\n",
        "print(\"A random array from a gaussian distribution is \\n\", sample_normal_arr)\n",
        "print(\"with mu: \", mu)\n",
        "print(\"with sigma: \", sigma)\n",
        "print(\"with dimensions \", sample_normal_arr.shape)\n",
        "# np.random.randn()"
      ]
    },
    {
      "cell_type": "markdown",
      "metadata": {
        "id": "kTu4JbaB9vlS"
      },
      "source": [
        "## 4. Accessing data"
      ]
    },
    {
      "cell_type": "markdown",
      "metadata": {
        "id": "i4Zkd8kc9vlS"
      },
      "source": [
        "### a. Indexing: Accessing values from Numpy Arrays"
      ]
    },
    {
      "cell_type": "code",
      "execution_count": 10,
      "metadata": {
        "id": "oGNdGe_P9vlS",
        "colab": {
          "base_uri": "https://localhost:8080/"
        },
        "outputId": "b38e2e9b-fefe-481f-be63-e35fa10b0719"
      },
      "outputs": [
        {
          "output_type": "stream",
          "name": "stdout",
          "text": [
            "[[[0.53737323 0.75861562 0.10590761 0.47360042 0.18633234 0.73691818]\n",
            "  [0.21655035 0.13521817 0.32414101 0.14967487 0.22232139 0.38648898]\n",
            "  [0.90259848 0.44994999 0.61306346 0.90234858 0.09928035 0.96980907]\n",
            "  [0.65314004 0.17090959 0.35815217 0.75068614 0.60783067 0.32504723]\n",
            "  [0.03842543 0.63427406 0.95894927 0.65279032 0.63505887 0.99529957]]\n",
            "\n",
            " [[0.58185033 0.41436859 0.4746975  0.6235101  0.33800761 0.67475232]\n",
            "  [0.31720174 0.77834548 0.94957105 0.66252687 0.01357164 0.6228461 ]\n",
            "  [0.67365963 0.971945   0.87819347 0.50962438 0.05571469 0.45115921]\n",
            "  [0.01998767 0.44171092 0.97958673 0.35944446 0.48089353 0.68866118]\n",
            "  [0.88047589 0.91823547 0.21682214 0.56518887 0.86510256 0.50896896]]\n",
            "\n",
            " [[0.91672295 0.92115761 0.08311249 0.27771856 0.0093567  0.84234208]\n",
            "  [0.64717414 0.84138612 0.26473016 0.39782075 0.55282148 0.16494046]\n",
            "  [0.36980809 0.14644176 0.56961841 0.70373728 0.28847644 0.43328806]\n",
            "  [0.75610669 0.39609828 0.89603839 0.63892108 0.89155444 0.68005557]\n",
            "  [0.44919774 0.97857093 0.11620191 0.7670237  0.41182014 0.67543908]]\n",
            "\n",
            " [[0.24979628 0.31321833 0.96541622 0.58846509 0.65966841 0.53320625]\n",
            "  [0.23053302 0.39486929 0.61880856 0.47486752 0.47013219 0.71607453]\n",
            "  [0.287991   0.38346223 0.74916984 0.87845219 0.10286336 0.09237389]\n",
            "  [0.35404666 0.55181626 0.03362509 0.96896177 0.32099724 0.22126269]\n",
            "  [0.1412639  0.09725993 0.98404224 0.26034093 0.53702252 0.44792617]]]\n"
          ]
        },
        {
          "output_type": "execute_result",
          "data": {
            "text/plain": [
              "0.5818503294385343"
            ]
          },
          "metadata": {},
          "execution_count": 10
        }
      ],
      "source": [
        "n = np.random.rand(4, 5, 6) # see this as 4 batches, each containing 5 rows and 6 columns\n",
        "print(n)\n",
        "\n",
        "n[1, 0, 0] # returns the element located in the fourth column of third row of the second batch."
      ]
    },
    {
      "cell_type": "markdown",
      "metadata": {
        "id": "KE8tesK09vlS"
      },
      "source": [
        "### b. Slicing: Accessing subsections of Numpy Arrays based on Indices"
      ]
    },
    {
      "cell_type": "code",
      "execution_count": 11,
      "metadata": {
        "id": "QGkKpZsa9vlT",
        "colab": {
          "base_uri": "https://localhost:8080/"
        },
        "outputId": "fbac3a48-a0c8-49ac-fdf6-7ac1d96f9df9"
      },
      "outputs": [
        {
          "output_type": "stream",
          "name": "stdout",
          "text": [
            "n[0, :, :]\n",
            "[[0.53737323 0.75861562 0.10590761 0.47360042 0.18633234 0.73691818]\n",
            " [0.21655035 0.13521817 0.32414101 0.14967487 0.22232139 0.38648898]\n",
            " [0.90259848 0.44994999 0.61306346 0.90234858 0.09928035 0.96980907]\n",
            " [0.65314004 0.17090959 0.35815217 0.75068614 0.60783067 0.32504723]\n",
            " [0.03842543 0.63427406 0.95894927 0.65279032 0.63505887 0.99529957]]\n",
            "\n",
            "n[0,0:3,0:4]\n",
            "[[0.53737323 0.75861562 0.10590761 0.47360042]\n",
            " [0.21655035 0.13521817 0.32414101 0.14967487]\n",
            " [0.90259848 0.44994999 0.61306346 0.90234858]]\n",
            "\n",
            "n[:, 3, 4]\n",
            "[0.60783067 0.48089353 0.89155444 0.32099724]\n"
          ]
        }
      ],
      "source": [
        "# slice along a batch\n",
        "print('n[0, :, :]')\n",
        "print(n[0, :, :]) # same as: n[0]\n",
        "print('\\nn[0,0:3,0:4]')\n",
        "print(n[0, 0:3, 0:4])\n",
        "\n",
        "# slice along multiple batches\n",
        "print('\\nn[:, 3, 4]')\n",
        "print(n[:, 3, 4]) # returns the elements in the 4th row and 5th column across all batches"
      ]
    },
    {
      "cell_type": "code",
      "execution_count": 12,
      "metadata": {
        "id": "L2e6DkYp9vlT",
        "colab": {
          "base_uri": "https://localhost:8080/"
        },
        "outputId": "07521244-9830-45b2-f398-7ac205c1813f"
      },
      "outputs": [
        {
          "output_type": "stream",
          "name": "stdout",
          "text": [
            "[[[0.53737323 0.75861562 0.10590761 0.47360042 0.18633234 0.73691818]\n",
            "  [0.21655035 0.13521817 0.32414101 0.14967487 0.22232139 0.38648898]\n",
            "  [0.90259848 0.44994999 0.61306346 0.90234858 0.09928035 0.96980907]\n",
            "  [0.65314004 0.17090959 0.35815217 0.75068614 0.60783067 0.32504723]\n",
            "  [0.03842543 0.63427406 0.95894927 0.65279032 0.63505887 0.99529957]]\n",
            "\n",
            " [[0.58185033 0.41436859 0.4746975  0.6235101  0.33800761 0.67475232]\n",
            "  [0.31720174 0.77834548 0.94957105 0.66252687 0.01357164 0.6228461 ]\n",
            "  [0.67365963 0.971945   0.87819347 0.50962438 0.05571469 0.45115921]\n",
            "  [0.01998767 0.44171092 0.97958673 0.35944446 0.48089353 0.68866118]\n",
            "  [0.88047589 0.91823547 0.21682214 0.56518887 0.86510256 0.50896896]]\n",
            "\n",
            " [[0.91672295 0.92115761 0.08311249 0.27771856 0.0093567  0.84234208]\n",
            "  [0.64717414 0.84138612 0.26473016 0.39782075 0.55282148 0.16494046]\n",
            "  [0.36980809 0.14644176 0.56961841 0.70373728 0.28847644 0.43328806]\n",
            "  [0.75610669 0.39609828 0.89603839 0.63892108 0.89155444 0.68005557]\n",
            "  [0.44919774 0.97857093 0.11620191 0.7670237  0.41182014 0.67543908]]\n",
            "\n",
            " [[0.24979628 0.31321833 0.96541622 0.58846509 0.65966841 0.53320625]\n",
            "  [0.23053302 0.39486929 0.61880856 0.47486752 0.47013219 0.71607453]\n",
            "  [0.287991   0.38346223 0.74916984 0.87845219 0.10286336 0.09237389]\n",
            "  [0.35404666 0.55181626 0.03362509 0.96896177 0.32099724 0.22126269]\n",
            "  [0.1412639  0.09725993 0.98404224 0.26034093 0.53702252 0.44792617]]]\n",
            "************************************************************\n",
            "[[[0.53737323 0.75861562 0.10590761 0.47360042 0.18633234 0.73691818]\n",
            "  [0.21655035 0.13521817 0.32414101 0.14967487 0.22232139 0.38648898]\n",
            "  [0.90259848 0.44994999 0.61306346 0.90234858 0.09928035 0.96980907]\n",
            "  [0.65314004 0.17090959 0.35815217 0.75068614 0.60783067 0.32504723]\n",
            "  [0.03842543 0.63427406 0.95894927 0.65279032 0.63505887 0.99529957]]\n",
            "\n",
            " [[0.91672295 0.92115761 0.08311249 0.27771856 0.0093567  0.84234208]\n",
            "  [0.64717414 0.84138612 0.26473016 0.39782075 0.55282148 0.16494046]\n",
            "  [0.36980809 0.14644176 0.56961841 0.70373728 0.28847644 0.43328806]\n",
            "  [0.75610669 0.39609828 0.89603839 0.63892108 0.89155444 0.68005557]\n",
            "  [0.44919774 0.97857093 0.11620191 0.7670237  0.41182014 0.67543908]]]\n",
            "************************************************************\n",
            "[[[0.13521817 0.14967487 0.38648898]\n",
            "  [0.44994999 0.90234858 0.96980907]\n",
            "  [0.17090959 0.75068614 0.32504723]]\n",
            "\n",
            " [[0.84138612 0.39782075 0.16494046]\n",
            "  [0.14644176 0.70373728 0.43328806]\n",
            "  [0.39609828 0.63892108 0.68005557]]]\n"
          ]
        }
      ],
      "source": [
        "#syntax for slicing at interval is start:stop:step_size \n",
        "print(n)\n",
        "print('**'*30)\n",
        "print(n[0::2]) # slices from index 0 to the end of the dimension at intervals of 2\n",
        "print('**'*30)\n",
        "print(n[0::2, 1:4, 1::2]) # rows (2-5) and columns at an interval of 2, starting from 1"
      ]
    },
    {
      "cell_type": "markdown",
      "metadata": {
        "id": "LvCYr9vd9vlT"
      },
      "source": [
        "## 5. Modifying data"
      ]
    },
    {
      "cell_type": "markdown",
      "metadata": {
        "id": "Y0mkCUnL9vlT"
      },
      "source": [
        "### Modify single values"
      ]
    },
    {
      "cell_type": "code",
      "execution_count": 14,
      "metadata": {
        "id": "vaQi-lpb9vlT",
        "colab": {
          "base_uri": "https://localhost:8080/"
        },
        "outputId": "9f0e0863-c1f0-42b8-9a1a-2349971ba47e"
      },
      "outputs": [
        {
          "output_type": "stream",
          "name": "stdout",
          "text": [
            "True\n",
            "[[[0.53737323 0.75861562 0.10590761 0.47360042 0.18633234 0.73691818]\n",
            "  [0.21655035 0.13521817 0.32414101 0.14967487 0.22232139 0.38648898]\n",
            "  [0.90259848 0.44994999 0.61306346 0.90234858 0.09928035 0.96980907]\n",
            "  [0.65314004 0.17090959 0.35815217 0.75068614 0.60783067 0.32504723]\n",
            "  [0.03842543 0.63427406 0.95894927 0.65279032 0.63505887 0.99529957]]\n",
            "\n",
            " [[0.58185033 0.41436859 0.4746975  0.6235101  0.33800761 0.67475232]\n",
            "  [0.31720174 0.77834548 0.94957105 0.66252687 0.01357164 0.6228461 ]\n",
            "  [0.67365963 0.971945   0.87819347 0.50962438 0.05571469 0.45115921]\n",
            "  [0.01998767 0.44171092 0.97958673 0.35944446 0.48089353 0.68866118]\n",
            "  [0.88047589 0.91823547 0.21682214 0.56518887 0.86510256 0.50896896]]\n",
            "\n",
            " [[0.91672295 0.92115761 0.08311249 0.27771856 0.0093567  0.84234208]\n",
            "  [0.64717414 0.84138612 0.26473016 0.39782075 0.55282148 0.16494046]\n",
            "  [0.36980809 0.14644176 0.56961841 0.70373728 0.28847644 0.43328806]\n",
            "  [0.75610669 0.39609828 0.89603839 0.63892108 0.89155444 0.68005557]\n",
            "  [0.44919774 0.005      0.11620191 0.7670237  0.41182014 0.67543908]]\n",
            "\n",
            " [[0.24979628 0.31321833 0.96541622 0.58846509 0.65966841 0.53320625]\n",
            "  [0.23053302 0.39486929 0.61880856 0.47486752 0.47013219 0.71607453]\n",
            "  [0.287991   0.38346223 0.74916984 0.87845219 0.10286336 0.09237389]\n",
            "  [0.35404666 0.55181626 0.03362509 0.96896177 0.32099724 0.22126269]\n",
            "  [0.1412639  0.09725993 0.98404224 0.26034093 0.53702252 0.44792617]]]\n",
            "False\n"
          ]
        }
      ],
      "source": [
        "#When you assign an array or its elements to a new variable, \n",
        "#you have to explicitly numpy.copy the array, otherwise the variable is a view into the original array.\n",
        "\n",
        "n_copy = np.copy(n)\n",
        "\n",
        "# check if values in the two arrays are the same before copy\n",
        "print(n_copy[2, 4, 1] == n[2, 4, 1])\n",
        "\n",
        "n_copy[2, 4, 1] = 0.005\n",
        "print(n_copy)\n",
        "\n",
        "# check if values in the two arrays are the same after copy\n",
        "print(n_copy[2, 4, 1] == n[2, 4, 1])"
      ]
    },
    {
      "cell_type": "markdown",
      "metadata": {
        "id": "uaykGbpp9vlT"
      },
      "source": [
        "### Modifying multiple values"
      ]
    },
    {
      "cell_type": "code",
      "execution_count": 17,
      "metadata": {
        "id": "WGEcZDqG9vlU",
        "colab": {
          "base_uri": "https://localhost:8080/"
        },
        "outputId": "da070020-0c4d-4de4-9d67-b1e445c01239"
      },
      "outputs": [
        {
          "output_type": "stream",
          "name": "stdout",
          "text": [
            "Are the arrays the same before modification: [False False False False False False]\n",
            "Before modifying values: [0.5 0.5 0.5 0.5 0.5 0.5]\n",
            "After modifying values: [0.5 0.5 0.5 0.5 0.5 0.5]\n",
            "Are the arrays the same after modification: [False False False False False False]\n"
          ]
        }
      ],
      "source": [
        "# check if values in the two arrays are the same before copy\n",
        "print(f\"Are the arrays the same before modification: {n_copy[2, 3] == n[2, 3]}\")\n",
        "print(f\"Before modifying values: {n_copy[2, 3]}\")\n",
        "\n",
        "n_copy[2, 3] = 0.5\n",
        "\n",
        "print(f\"After modifying values: {n_copy[2, 3]}\")\n",
        "# print(n)\n",
        "# check if values in the two arrays are the same after copy\n",
        "print(f\"Are the arrays the same after modification: {n_copy[2, 3] == n[2, 3]}\")"
      ]
    },
    {
      "cell_type": "markdown",
      "metadata": {
        "id": "MTYa_jys9vlU"
      },
      "source": [
        "## 6.Pivoting data"
      ]
    },
    {
      "cell_type": "markdown",
      "metadata": {
        "id": "DHOePiWN9vlU"
      },
      "source": [
        "### a. Reshaping Arrays\n",
        "Array reshaping is an operation that changes the shape of an array whilst maintaining the same data in the array. \n",
        "\n",
        "For instance, reshaping from (3, 4, 5) -> (2, 5, 6) or from (3, 4, 5) -> (6, 10). A reshape operation is valid, so long as the product of the new shape specified matches the product of the old shape."
      ]
    },
    {
      "cell_type": "markdown",
      "metadata": {
        "id": "pc6-SA3K9vlU"
      },
      "source": [
        "#### Reshaping within the same number of dimensions"
      ]
    },
    {
      "cell_type": "code",
      "execution_count": 2,
      "metadata": {
        "id": "VXoOUIBO9vlV",
        "colab": {
          "base_uri": "https://localhost:8080/"
        },
        "outputId": "184bd422-44bb-4dda-b837-c09878aba7d0"
      },
      "outputs": [
        {
          "output_type": "stream",
          "name": "stdout",
          "text": [
            "Original Shape: (3, 4, 5)\n",
            "size:60\n",
            "[[[0.36931061 0.12539373 0.69925849 0.66087641 0.55097265]\n",
            "  [0.12612484 0.68357709 0.71026136 0.70297992 0.82281994]\n",
            "  [0.09492594 0.02631935 0.44830489 0.52821061 0.85066395]\n",
            "  [0.98540858 0.03665268 0.42431968 0.99681204 0.59286849]]\n",
            "\n",
            " [[0.92352777 0.8369867  0.78769896 0.81710488 0.06213244]\n",
            "  [0.93374678 0.70050271 0.26149116 0.30537639 0.48672792]\n",
            "  [0.13718622 0.0360462  0.9199175  0.00893619 0.68753856]\n",
            "  [0.48223048 0.5937661  0.43506008 0.51822029 0.08386609]]\n",
            "\n",
            " [[0.67355803 0.76499962 0.1918958  0.10654726 0.43468066]\n",
            "  [0.61515742 0.69384465 0.38734658 0.83167511 0.61252788]\n",
            "  [0.50627474 0.1695183  0.03220216 0.6406712  0.3193735 ]\n",
            "  [0.84069782 0.31848067 0.6303235  0.35103275 0.68737312]]]\n"
          ]
        }
      ],
      "source": [
        "import numpy as np\n",
        "s = np.random.rand(3, 4, 5)\n",
        "print(f\"Original Shape: {s.shape}\")\n",
        "\n",
        "print(f'size:{s.size}')\n",
        "\n",
        "print(s)"
      ]
    },
    {
      "cell_type": "code",
      "execution_count": 3,
      "metadata": {
        "id": "EbEhX78H9vlV",
        "colab": {
          "base_uri": "https://localhost:8080/"
        },
        "outputId": "e966c733-9a6b-4a3a-bc75-44ae9efc926e"
      },
      "outputs": [
        {
          "output_type": "stream",
          "name": "stdout",
          "text": [
            "Reshaped from s: (2, 6, 5)\n",
            "[[[0.36931061 0.12539373 0.69925849 0.66087641 0.55097265]\n",
            "  [0.12612484 0.68357709 0.71026136 0.70297992 0.82281994]\n",
            "  [0.09492594 0.02631935 0.44830489 0.52821061 0.85066395]\n",
            "  [0.98540858 0.03665268 0.42431968 0.99681204 0.59286849]\n",
            "  [0.92352777 0.8369867  0.78769896 0.81710488 0.06213244]\n",
            "  [0.93374678 0.70050271 0.26149116 0.30537639 0.48672792]]\n",
            "\n",
            " [[0.13718622 0.0360462  0.9199175  0.00893619 0.68753856]\n",
            "  [0.48223048 0.5937661  0.43506008 0.51822029 0.08386609]\n",
            "  [0.67355803 0.76499962 0.1918958  0.10654726 0.43468066]\n",
            "  [0.61515742 0.69384465 0.38734658 0.83167511 0.61252788]\n",
            "  [0.50627474 0.1695183  0.03220216 0.6406712  0.3193735 ]\n",
            "  [0.84069782 0.31848067 0.6303235  0.35103275 0.68737312]]]\n"
          ]
        }
      ],
      "source": [
        "s1 = s.reshape(2, 6, 5)\n",
        "print(f\"Reshaped from s: {s1.shape}\")\n",
        "\n",
        "print(s1)"
      ]
    },
    {
      "cell_type": "markdown",
      "metadata": {
        "id": "dDmSnSl29vlV"
      },
      "source": [
        "#### Reshaping to a different number of dimensions"
      ]
    },
    {
      "cell_type": "code",
      "execution_count": 4,
      "metadata": {
        "id": "Q6RU0XEi9vlV",
        "colab": {
          "base_uri": "https://localhost:8080/"
        },
        "outputId": "ba2156ef-0c76-4641-c504-e9bb06acd42f"
      },
      "outputs": [
        {
          "output_type": "stream",
          "name": "stdout",
          "text": [
            "Original shape: (120,)\n",
            "[  0   1   2   3   4   5   6   7   8   9  10  11  12  13  14  15  16  17\n",
            "  18  19  20  21  22  23  24  25  26  27  28  29  30  31  32  33  34  35\n",
            "  36  37  38  39  40  41  42  43  44  45  46  47  48  49  50  51  52  53\n",
            "  54  55  56  57  58  59  60  61  62  63  64  65  66  67  68  69  70  71\n",
            "  72  73  74  75  76  77  78  79  80  81  82  83  84  85  86  87  88  89\n",
            "  90  91  92  93  94  95  96  97  98  99 100 101 102 103 104 105 106 107\n",
            " 108 109 110 111 112 113 114 115 116 117 118 119]\n"
          ]
        }
      ],
      "source": [
        "r = np.arange(120)\n",
        "\n",
        "print(f\"Original shape: {r.shape}\")\n",
        "\n",
        "print(r)"
      ]
    },
    {
      "cell_type": "code",
      "execution_count": 5,
      "metadata": {
        "id": "5Hj_Cnkh9vlV",
        "colab": {
          "base_uri": "https://localhost:8080/"
        },
        "outputId": "be6e7f2c-03d6-4e63-9b65-324ad717d7bb"
      },
      "outputs": [
        {
          "output_type": "stream",
          "name": "stdout",
          "text": [
            "Reshaped from r: (3, 4, 10)\n",
            "[[[  0   1   2   3   4   5   6   7   8   9]\n",
            "  [ 10  11  12  13  14  15  16  17  18  19]\n",
            "  [ 20  21  22  23  24  25  26  27  28  29]\n",
            "  [ 30  31  32  33  34  35  36  37  38  39]]\n",
            "\n",
            " [[ 40  41  42  43  44  45  46  47  48  49]\n",
            "  [ 50  51  52  53  54  55  56  57  58  59]\n",
            "  [ 60  61  62  63  64  65  66  67  68  69]\n",
            "  [ 70  71  72  73  74  75  76  77  78  79]]\n",
            "\n",
            " [[ 80  81  82  83  84  85  86  87  88  89]\n",
            "  [ 90  91  92  93  94  95  96  97  98  99]\n",
            "  [100 101 102 103 104 105 106 107 108 109]\n",
            "  [110 111 112 113 114 115 116 117 118 119]]]\n"
          ]
        }
      ],
      "source": [
        "# (120,) -> (3, 4, 10)\n",
        "r1 = r.reshape(3, 4, 10) # this can also be written as r.reshape((3, 4, 10))\n",
        "print(f\"Reshaped from r: {r1.shape}\")\n",
        "\n",
        "print(r1)"
      ]
    },
    {
      "cell_type": "code",
      "execution_count": 6,
      "metadata": {
        "id": "YZZE_XHA9vlW",
        "colab": {
          "base_uri": "https://localhost:8080/"
        },
        "outputId": "e66c646d-07f7-4694-ca53-5354a6428650"
      },
      "outputs": [
        {
          "output_type": "stream",
          "name": "stdout",
          "text": [
            "Reshaped from r1: (6, 20)\n",
            "[[  0   1   2   3   4   5   6   7   8   9  10  11  12  13  14  15  16  17\n",
            "   18  19]\n",
            " [ 20  21  22  23  24  25  26  27  28  29  30  31  32  33  34  35  36  37\n",
            "   38  39]\n",
            " [ 40  41  42  43  44  45  46  47  48  49  50  51  52  53  54  55  56  57\n",
            "   58  59]\n",
            " [ 60  61  62  63  64  65  66  67  68  69  70  71  72  73  74  75  76  77\n",
            "   78  79]\n",
            " [ 80  81  82  83  84  85  86  87  88  89  90  91  92  93  94  95  96  97\n",
            "   98  99]\n",
            " [100 101 102 103 104 105 106 107 108 109 110 111 112 113 114 115 116 117\n",
            "  118 119]]\n"
          ]
        }
      ],
      "source": [
        "# (3, 4, 10) -> (6, 20)\n",
        "r2 = r1.reshape(6, 20)\n",
        "print(f\"Reshaped from r1: {r2.shape}\")\n",
        "\n",
        "print(r2)"
      ]
    },
    {
      "cell_type": "markdown",
      "metadata": {
        "id": "yOjWcjQ99vlW"
      },
      "source": [
        "### b. Transposing Arrays\n",
        "The transpose operation reverses the order of an array. It switches the rows to columns and vice versa. In a multi-dimensional array, the transpose operation moves the data from one axis to another in the order specified in the transpose method."
      ]
    },
    {
      "cell_type": "code",
      "source": [
        "import numpy as np"
      ],
      "metadata": {
        "id": "s4pCpslgeYEK"
      },
      "execution_count": 2,
      "outputs": []
    },
    {
      "cell_type": "code",
      "execution_count": 7,
      "metadata": {
        "id": "CPG2H-P09vlW",
        "colab": {
          "base_uri": "https://localhost:8080/"
        },
        "outputId": "814b1e55-2e5e-4f3e-a071-497fafd4f0c3"
      },
      "outputs": [
        {
          "output_type": "stream",
          "name": "stdout",
          "text": [
            "Shape of the original array (5, 10)\n",
            "Original array\n",
            " [[ 0  1  2  3  4  5  6  7  8  9]\n",
            " [10 11 12 13 14 15 16 17 18 19]\n",
            " [20 21 22 23 24 25 26 27 28 29]\n",
            " [30 31 32 33 34 35 36 37 38 39]\n",
            " [40 41 42 43 44 45 46 47 48 49]]\n",
            "Shape of the transposed array (10, 5)\n",
            "Transposed array\n",
            " [[ 0 10 20 30 40]\n",
            " [ 1 11 21 31 41]\n",
            " [ 2 12 22 32 42]\n",
            " [ 3 13 23 33 43]\n",
            " [ 4 14 24 34 44]\n",
            " [ 5 15 25 35 45]\n",
            " [ 6 16 26 36 46]\n",
            " [ 7 17 27 37 47]\n",
            " [ 8 18 28 38 48]\n",
            " [ 9 19 29 39 49]]\n"
          ]
        },
        {
          "output_type": "execute_result",
          "data": {
            "text/plain": [
              "array([[ 0, 10, 20, 30, 40],\n",
              "       [ 1, 11, 21, 31, 41],\n",
              "       [ 2, 12, 22, 32, 42],\n",
              "       [ 3, 13, 23, 33, 43],\n",
              "       [ 4, 14, 24, 34, 44],\n",
              "       [ 5, 15, 25, 35, 45],\n",
              "       [ 6, 16, 26, 36, 46],\n",
              "       [ 7, 17, 27, 37, 47],\n",
              "       [ 8, 18, 28, 38, 48],\n",
              "       [ 9, 19, 29, 39, 49]])"
            ]
          },
          "metadata": {},
          "execution_count": 7
        }
      ],
      "source": [
        "x=np.arange(50).reshape((5,10))\n",
        "print(\"Shape of the original array\", x.shape)\n",
        "print(\"Original array\\n\", x)\n",
        "\n",
        "x1=np.transpose(x)\n",
        "print(\"Shape of the transposed array\", x1.shape)\n",
        "print(\"Transposed array\\n\", x1)\n",
        "\n",
        "x.T"
      ]
    },
    {
      "cell_type": "code",
      "execution_count": 8,
      "metadata": {
        "id": "2CohJwYu9vlX",
        "colab": {
          "base_uri": "https://localhost:8080/"
        },
        "outputId": "9f60b142-fbbf-46b4-f960-77f63845934a"
      },
      "outputs": [
        {
          "output_type": "stream",
          "name": "stdout",
          "text": [
            "Shape of the Original array (3, 4, 5)\n",
            "Original array\n",
            " [[[ 0  1  2  3  4]\n",
            "  [ 5  6  7  8  9]\n",
            "  [10 11 12 13 14]\n",
            "  [15 16 17 18 19]]\n",
            "\n",
            " [[20 21 22 23 24]\n",
            "  [25 26 27 28 29]\n",
            "  [30 31 32 33 34]\n",
            "  [35 36 37 38 39]]\n",
            "\n",
            " [[40 41 42 43 44]\n",
            "  [45 46 47 48 49]\n",
            "  [50 51 52 53 54]\n",
            "  [55 56 57 58 59]]]\n"
          ]
        }
      ],
      "source": [
        "w = np.arange(60).reshape((3, 4, 5))\n",
        "w\n",
        "\n",
        "print(\"Shape of the Original array\", w.shape)\n",
        "print(\"Original array\\n\", w)\n",
        "\n"
      ]
    },
    {
      "cell_type": "markdown",
      "metadata": {
        "id": "-_-Hc6729vlX"
      },
      "source": [
        "#### Transpose without specifying axes"
      ]
    },
    {
      "cell_type": "code",
      "execution_count": 9,
      "metadata": {
        "id": "HiwWzZW99vlX",
        "colab": {
          "base_uri": "https://localhost:8080/"
        },
        "outputId": "b8a201ed-49c0-4fef-eb13-2bf06f2cb5c9"
      },
      "outputs": [
        {
          "output_type": "stream",
          "name": "stdout",
          "text": [
            "Shape of the transposed array (5, 4, 3)\n",
            "Transposed array\n",
            " [[[ 0 20 40]\n",
            "  [ 5 25 45]\n",
            "  [10 30 50]\n",
            "  [15 35 55]]\n",
            "\n",
            " [[ 1 21 41]\n",
            "  [ 6 26 46]\n",
            "  [11 31 51]\n",
            "  [16 36 56]]\n",
            "\n",
            " [[ 2 22 42]\n",
            "  [ 7 27 47]\n",
            "  [12 32 52]\n",
            "  [17 37 57]]\n",
            "\n",
            " [[ 3 23 43]\n",
            "  [ 8 28 48]\n",
            "  [13 33 53]\n",
            "  [18 38 58]]\n",
            "\n",
            " [[ 4 24 44]\n",
            "  [ 9 29 49]\n",
            "  [14 34 54]\n",
            "  [19 39 59]]]\n"
          ]
        }
      ],
      "source": [
        "# Original Shape: 3,4,5\n",
        "\n",
        "w1 = np.transpose(w)  # 0->2, 1->1, 2->0   (0,1,2)->(2,1,0)\n",
        "print(\"Shape of the transposed array\", w1.shape)\n",
        "print(\"Transposed array\\n\", w1)"
      ]
    },
    {
      "cell_type": "markdown",
      "metadata": {
        "id": "6lJm0ifk9vlX"
      },
      "source": [
        "#### Transpose along specified axes"
      ]
    },
    {
      "cell_type": "code",
      "execution_count": 10,
      "metadata": {
        "id": "kk0gmm2u9vlY",
        "colab": {
          "base_uri": "https://localhost:8080/"
        },
        "outputId": "a81e31ad-4d7f-4750-c4ce-1322edf75af7"
      },
      "outputs": [
        {
          "output_type": "stream",
          "name": "stdout",
          "text": [
            "Shape of the transposed array (3, 5, 4)\n",
            "Transposed array\n",
            " [[[ 0  5 10 15]\n",
            "  [ 1  6 11 16]\n",
            "  [ 2  7 12 17]\n",
            "  [ 3  8 13 18]\n",
            "  [ 4  9 14 19]]\n",
            "\n",
            " [[20 25 30 35]\n",
            "  [21 26 31 36]\n",
            "  [22 27 32 37]\n",
            "  [23 28 33 38]\n",
            "  [24 29 34 39]]\n",
            "\n",
            " [[40 45 50 55]\n",
            "  [41 46 51 56]\n",
            "  [42 47 52 57]\n",
            "  [43 48 53 58]\n",
            "  [44 49 54 59]]]\n",
            "Shape of the transposed array (4, 5, 3)\n",
            "Transposed array\n",
            " [[[ 0 20 40]\n",
            "  [ 1 21 41]\n",
            "  [ 2 22 42]\n",
            "  [ 3 23 43]\n",
            "  [ 4 24 44]]\n",
            "\n",
            " [[ 5 25 45]\n",
            "  [ 6 26 46]\n",
            "  [ 7 27 47]\n",
            "  [ 8 28 48]\n",
            "  [ 9 29 49]]\n",
            "\n",
            " [[10 30 50]\n",
            "  [11 31 51]\n",
            "  [12 32 52]\n",
            "  [13 33 53]\n",
            "  [14 34 54]]\n",
            "\n",
            " [[15 35 55]\n",
            "  [16 36 56]\n",
            "  [17 37 57]\n",
            "  [18 38 58]\n",
            "  [19 39 59]]]\n"
          ]
        }
      ],
      "source": [
        "w\n",
        "\n",
        "# Original Shape: 3,4,5\n",
        "\n",
        "w2 = np.transpose(w, axes=(0, 2, 1)) # 0, 1, 2\n",
        "print(\"Shape of the transposed array\", w2.shape)\n",
        "print(\"Transposed array\\n\", w2)\n",
        "\n",
        "# Original Shape: 3,4,5\n",
        "\n",
        "w3 = np.transpose(w, axes=(1, 2, 0))\n",
        "print(\"Shape of the transposed array\", w3.shape)\n",
        "print(\"Transposed array\\n\", w3)"
      ]
    },
    {
      "cell_type": "markdown",
      "metadata": {
        "id": "rE0S18sX9vlY"
      },
      "source": [
        "### c. Flattening Arrays\n",
        "The flatten operation in Numpy collapses arrays of multiple dimensions into one dimension.\n",
        "\n",
        "\n",
        "Different orders can be specified when flattening Numpy Arrays. See examples below."
      ]
    },
    {
      "cell_type": "code",
      "execution_count": 23,
      "metadata": {
        "id": "4kaZw_RH9vlY",
        "colab": {
          "base_uri": "https://localhost:8080/"
        },
        "outputId": "3738fe3c-8d90-4419-9646-ae4e6bc7c456"
      },
      "outputs": [
        {
          "output_type": "stream",
          "name": "stdout",
          "text": [
            "(2, 4)\n",
            "[[0.43501967 0.25049946 0.18238037 0.74800693]\n",
            " [0.45549614 0.74970836 0.53204394 0.32657929]]\n"
          ]
        }
      ],
      "source": [
        "k = np.random.rand(2,4)\n",
        "\n",
        "print(k.shape)\n",
        "print(k)"
      ]
    },
    {
      "cell_type": "markdown",
      "metadata": {
        "id": "pwtcrcVM9vlY"
      },
      "source": [
        "#### Flattening Arrays along the row (default order)"
      ]
    },
    {
      "cell_type": "code",
      "execution_count": 24,
      "metadata": {
        "id": "5XKfI8wb9vlY",
        "colab": {
          "base_uri": "https://localhost:8080/"
        },
        "outputId": "14bf8065-c382-4092-b94e-eb7ac59b1e03"
      },
      "outputs": [
        {
          "output_type": "stream",
          "name": "stdout",
          "text": [
            "[0.43501967 0.25049946 0.18238037 0.74800693 0.45549614 0.74970836\n",
            " 0.53204394 0.32657929]\n",
            "*********\n"
          ]
        },
        {
          "output_type": "execute_result",
          "data": {
            "text/plain": [
              "(8,)"
            ]
          },
          "metadata": {},
          "execution_count": 24
        }
      ],
      "source": [
        "k1 = k.flatten() # all rows are stacked on each other into a 1D array.\n",
        "print(k1,end='\\n*********\\n')\n",
        "# print()\n",
        "k1.shape"
      ]
    },
    {
      "cell_type": "code",
      "source": [],
      "metadata": {
        "id": "kv3VHFWwQwYk"
      },
      "execution_count": null,
      "outputs": []
    },
    {
      "cell_type": "markdown",
      "metadata": {
        "id": "_haKxwbf9vlZ"
      },
      "source": [
        "#### Flattening Arrays along the column"
      ]
    },
    {
      "cell_type": "code",
      "execution_count": 25,
      "metadata": {
        "id": "ps59bzd99vlZ",
        "colab": {
          "base_uri": "https://localhost:8080/"
        },
        "outputId": "ffe22962-a3d7-4792-bb5d-58516b74f30f"
      },
      "outputs": [
        {
          "output_type": "stream",
          "name": "stdout",
          "text": [
            "[0.43501967 0.45549614 0.25049946 0.74970836 0.18238037 0.53204394\n",
            " 0.74800693 0.32657929]\n"
          ]
        },
        {
          "output_type": "execute_result",
          "data": {
            "text/plain": [
              "(8,)"
            ]
          },
          "metadata": {},
          "execution_count": 25
        }
      ],
      "source": [
        "k2= k.flatten('F') # forms a 1D array where elements in a column are listed before moving to the next column.\n",
        "print(k2)\n",
        "\n",
        "k2.shape"
      ]
    },
    {
      "cell_type": "markdown",
      "metadata": {
        "id": "4mYZ-5429vlZ"
      },
      "source": [
        "#### Flattening Arrays using Numpy Reshape\n"
      ]
    },
    {
      "cell_type": "code",
      "execution_count": 22,
      "metadata": {
        "id": "7X6FRhrW9vlZ",
        "colab": {
          "base_uri": "https://localhost:8080/"
        },
        "outputId": "12791560-9d24-48b0-b108-75cea7a47e52"
      },
      "outputs": [
        {
          "output_type": "stream",
          "name": "stdout",
          "text": [
            "[0.07173516 0.61222697 0.84881772 0.17705017 0.6923948  0.48382395\n",
            " 0.56618112 0.38379101 0.06574683 0.29502534 0.80974324 0.44757342\n",
            " 0.07176621 0.4379755  0.58604996 0.20865326 0.01949518 0.71834516\n",
            " 0.17846202 0.23173575 0.01967095 0.50537869 0.79383857 0.59261627\n",
            " 0.11290178 0.38954455 0.34295208 0.98912068 0.47292883 0.53166378]\n"
          ]
        },
        {
          "output_type": "execute_result",
          "data": {
            "text/plain": [
              "(30,)"
            ]
          },
          "metadata": {},
          "execution_count": 22
        }
      ],
      "source": [
        "k4= k.reshape(-1)\n",
        "print(k4)\n",
        "\n",
        "k4.shape"
      ]
    },
    {
      "cell_type": "markdown",
      "metadata": {
        "id": "_QcqKJi19vlZ"
      },
      "source": [
        "### d. Squeezing & Expanding Arrays"
      ]
    },
    {
      "cell_type": "markdown",
      "metadata": {
        "id": "mgzN-85p9vlZ"
      },
      "source": [
        "#### Squeezing Numpy Arrays\n",
        "\n",
        "The squeeze operation allows reduction of numpy arrays axes by dropping a specified axis, so long as it is of **unit length**. The product of the shape (overall size of the array) remains the same."
      ]
    },
    {
      "cell_type": "code",
      "execution_count": 26,
      "metadata": {
        "id": "mfuXpSgm9vlZ",
        "colab": {
          "base_uri": "https://localhost:8080/"
        },
        "outputId": "31b2667f-56f3-4f20-ab3e-3721136b13f7"
      },
      "outputs": [
        {
          "output_type": "stream",
          "name": "stdout",
          "text": [
            "Original Array: \n",
            "[[[0.63433697 0.73987486 0.20665165 0.53663988 0.32998539]]\n",
            "\n",
            " [[0.81899117 0.13036093 0.98059127 0.78170727 0.65905356]]\n",
            "\n",
            " [[0.03518147 0.97806533 0.90815676 0.98774838 0.85540523]]\n",
            "\n",
            " [[0.84484201 0.7704414  0.13268838 0.32684742 0.04905896]]]\n",
            "\n",
            "Shape of Original Array: (4, 1, 5)\n",
            "Squeezed Array: \n",
            " [[0.63433697 0.73987486 0.20665165 0.53663988 0.32998539]\n",
            " [0.81899117 0.13036093 0.98059127 0.78170727 0.65905356]\n",
            " [0.03518147 0.97806533 0.90815676 0.98774838 0.85540523]\n",
            " [0.84484201 0.7704414  0.13268838 0.32684742 0.04905896]]\n",
            "\n",
            "Shape of Squeezed Array: (4, 5)\n"
          ]
        }
      ],
      "source": [
        "sq = np.random.rand(4, 1, 5)\n",
        "print(f\"Original Array: \\n{sq}\\n\")\n",
        "print(f\"Shape of Original Array: {sq.shape}\")\n",
        "\n",
        "# transforms from (4, 1, 5) -> (4, 5)\n",
        "sq1 = np.squeeze(sq)\n",
        "print(f\"Squeezed Array: \\n {sq1}\\n\")\n",
        "print(f\"Shape of Squeezed Array: {sq1.shape}\")"
      ]
    },
    {
      "cell_type": "code",
      "execution_count": 27,
      "metadata": {
        "id": "AitZgvZs9vlZ",
        "colab": {
          "base_uri": "https://localhost:8080/"
        },
        "outputId": "6478ec3a-b2c9-4e91-eda2-b2913a19e545"
      },
      "outputs": [
        {
          "output_type": "stream",
          "name": "stdout",
          "text": [
            "Specified axis Squeezed Array: \n",
            " [[0.63433697 0.73987486 0.20665165 0.53663988 0.32998539]\n",
            " [0.81899117 0.13036093 0.98059127 0.78170727 0.65905356]\n",
            " [0.03518147 0.97806533 0.90815676 0.98774838 0.85540523]\n",
            " [0.84484201 0.7704414  0.13268838 0.32684742 0.04905896]]\n",
            "\n",
            "Shape of Specified axis Squeezed Array: (4, 5)\n"
          ]
        }
      ],
      "source": [
        "# Squeezing specified axes\n",
        "\n",
        "q2 = np.squeeze(sq, axis=1)\n",
        "print(f\"Specified axis Squeezed Array: \\n {q2}\\n\")\n",
        "print(f\"Shape of Specified axis Squeezed Array: {q2.shape}\")"
      ]
    },
    {
      "cell_type": "markdown",
      "metadata": {
        "id": "lwK2KE0E9vla"
      },
      "source": [
        "#### Unsqueezing (Expanding) Numpy Arrays\n",
        "This is the direct opposite of squeezing. A new unit axis is inserted in specified position. Multiple unit axes can be inserted by using a tuple on the axis attribute of the `expand_dims` method."
      ]
    },
    {
      "cell_type": "code",
      "execution_count": 28,
      "metadata": {
        "id": "beVrg-d_9vla",
        "colab": {
          "base_uri": "https://localhost:8080/"
        },
        "outputId": "e06602a6-e11e-42a9-a489-0fcbd787e827"
      },
      "outputs": [
        {
          "output_type": "stream",
          "name": "stdout",
          "text": [
            "Original Array: \n",
            " [[0.0744478  0.72949119 0.43379751 0.45928653 0.36812498]\n",
            " [0.18077616 0.25982563 0.53993816 0.85341635 0.82296821]\n",
            " [0.11978404 0.26504186 0.99636611 0.31574004 0.5024465 ]\n",
            " [0.16619235 0.35945675 0.84769608 0.98029242 0.18260864]]\n",
            "\n",
            "Shape of Original Array: (4, 5)\n",
            "Expanded Array: \n",
            " [[[0.0744478  0.72949119 0.43379751 0.45928653 0.36812498]]\n",
            "\n",
            " [[0.18077616 0.25982563 0.53993816 0.85341635 0.82296821]]\n",
            "\n",
            " [[0.11978404 0.26504186 0.99636611 0.31574004 0.5024465 ]]\n",
            "\n",
            " [[0.16619235 0.35945675 0.84769608 0.98029242 0.18260864]]]\n",
            "\n",
            "Shape of Expanded Array: (4, 1, 5)\n",
            "Multi-axes Expanded Array: \n",
            " [[[[0.0744478  0.72949119 0.43379751 0.45928653 0.36812498]]\n",
            "\n",
            "  [[0.18077616 0.25982563 0.53993816 0.85341635 0.82296821]]\n",
            "\n",
            "  [[0.11978404 0.26504186 0.99636611 0.31574004 0.5024465 ]]\n",
            "\n",
            "  [[0.16619235 0.35945675 0.84769608 0.98029242 0.18260864]]]]\n",
            "\n",
            "Shape of Multi-axes Expanded Array: (1, 4, 1, 5)\n"
          ]
        }
      ],
      "source": [
        "y = np.random.rand(4, 5)\n",
        "print(f\"Original Array: \\n {y}\\n\")\n",
        "print(f\"Shape of Original Array: {y.shape}\")\n",
        "\n",
        "# transforms from (4, 5) -> (4, 1, 5)\n",
        "y1 = np.expand_dims(y, axis=1)\n",
        "print(f\"Expanded Array: \\n {y1}\\n\")\n",
        "print(f\"Shape of Expanded Array: {y1.shape}\")\n",
        "\n",
        "# transforms from (4, 5) -> (1, 4, 1, 5)\n",
        "y2 = np.expand_dims(y, axis=(0, 2))\n",
        "print(f\"Multi-axes Expanded Array: \\n {y2}\\n\")\n",
        "print(f\"Shape of Multi-axes Expanded Array: {y2.shape}\")"
      ]
    },
    {
      "cell_type": "markdown",
      "metadata": {
        "id": "30vhZ6vV9vla"
      },
      "source": [
        "## 7. Combining data"
      ]
    },
    {
      "cell_type": "markdown",
      "metadata": {
        "id": "T7eBRDKA9vla"
      },
      "source": [
        "### a. Concatenation\n",
        "\n",
        "A concatenation operation joins a sequence of arrays along an *existing* axis. All arrays must either have the same shape (except in the concatenating dimension) or be empty."
      ]
    },
    {
      "cell_type": "code",
      "execution_count": 29,
      "metadata": {
        "id": "X0I4j6Uy9vla",
        "colab": {
          "base_uri": "https://localhost:8080/"
        },
        "outputId": "9d2d3696-878a-4021-be00-796defb1b5cc"
      },
      "outputs": [
        {
          "output_type": "stream",
          "name": "stdout",
          "text": [
            "Array 1 is \n",
            " [[[2 2]\n",
            "  [2 2]]\n",
            "\n",
            " [[1 2]\n",
            "  [2 1]]\n",
            "\n",
            " [[1 2]\n",
            "  [2 0]]]  with dimensions  (3, 2, 2) \n",
            "\n",
            "Array 2 is \n",
            " [[[2 3]\n",
            "  [2 1]]\n",
            "\n",
            " [[3 3]\n",
            "  [0 0]]\n",
            "\n",
            " [[1 3]\n",
            "  [3 2]]]  with dimensions  (3, 2, 2) \n",
            "\n",
            "Concatenated array 1 is \n",
            " [[[2 2]\n",
            "  [2 2]]\n",
            "\n",
            " [[1 2]\n",
            "  [2 1]]\n",
            "\n",
            " [[1 2]\n",
            "  [2 0]]\n",
            "\n",
            " [[2 3]\n",
            "  [2 1]]\n",
            "\n",
            " [[3 3]\n",
            "  [0 0]]\n",
            "\n",
            " [[1 3]\n",
            "  [3 2]]] \n",
            "\n",
            " and the dimensions of the concatenated array 1 are: \n",
            " (6, 2, 2)\n",
            "Concatenated array 2 is \n",
            " [[[2 2]\n",
            "  [2 2]\n",
            "  [2 3]\n",
            "  [2 1]]\n",
            "\n",
            " [[1 2]\n",
            "  [2 1]\n",
            "  [3 3]\n",
            "  [0 0]]\n",
            "\n",
            " [[1 2]\n",
            "  [2 0]\n",
            "  [1 3]\n",
            "  [3 2]]] \n",
            "\n",
            " and the dimensions of the concatenated array 2 are: \n",
            " (3, 4, 2)\n",
            "Concatenated array 3 is \n",
            " [[[2 2 2 3]\n",
            "  [2 2 2 1]]\n",
            "\n",
            " [[1 2 3 3]\n",
            "  [2 1 0 0]]\n",
            "\n",
            " [[1 2 1 3]\n",
            "  [2 0 3 2]]] \n",
            "\n",
            " and the dimensions of the concatenated array 3 are: \n",
            " (3, 2, 4)\n"
          ]
        }
      ],
      "source": [
        "# Concatenating Numpy Arrays\n",
        "\n",
        "array1 = np.random.randint(3, size = (3, 2, 2))\n",
        "print(\"Array 1 is \\n\", array1, \" with dimensions \", array1.shape, \"\\n\")\n",
        "\n",
        "array2 = np.random.randint(4, size = (3, 2, 2))\n",
        "print(\"Array 2 is \\n\", array2, \" with dimensions \", array2.shape, \"\\n\")\n",
        "\n",
        "concatenated_array1 = np.concatenate((array1, array2), axis = 0) \n",
        "print(\"Concatenated array 1 is \\n\", concatenated_array1, \"\\n\\n\", \"and the dimensions of the concatenated array 1 are: \\n\", concatenated_array1.shape)\n",
        "\n",
        "concatenated_array2 = np.concatenate((array1, array2), axis = 1) \n",
        "print(\"Concatenated array 2 is \\n\", concatenated_array2, \"\\n\\n\", \"and the dimensions of the concatenated array 2 are: \\n\", concatenated_array2.shape)\n",
        "\n",
        "concatenated_array3 = np.concatenate((array1, array2), axis = 2) \n",
        "print(\"Concatenated array 3 is \\n\", concatenated_array3, \"\\n\\n\", \"and the dimensions of the concatenated array 3 are: \\n\", concatenated_array3.shape)\n"
      ]
    },
    {
      "cell_type": "markdown",
      "metadata": {
        "id": "I4_ZhVLb9vlb"
      },
      "source": [
        "### b. Stacking\n",
        "\n",
        "The stack operation joins a sequence of arrays along a *new* axis. The axis parameter specifies the index of the new axis in the dimensions of the result. For example, if axis = 0 it will be the first dimension and if axis = -1 it will be the last dimension. All arrays need to be of the same size.  The stacked array has one more dimension than the input arrays."
      ]
    },
    {
      "cell_type": "code",
      "execution_count": 30,
      "metadata": {
        "id": "dim73ns59vlb",
        "colab": {
          "base_uri": "https://localhost:8080/"
        },
        "outputId": "579d5c5a-58bf-4960-b7a4-130c0b901d9d"
      },
      "outputs": [
        {
          "output_type": "stream",
          "name": "stdout",
          "text": [
            "Array 1 is \n",
            " [1 2 3]  with dimensions  (3,) \n",
            "\n",
            "Array 2 is \n",
            " [4 5 6]  with dimensions  (3,) \n",
            "\n",
            "Stacked array 1 is \n",
            " [[1 2 3]\n",
            " [4 5 6]]  with dimensions  (2, 3)\n",
            "Stacked array 2 is \n",
            " [[1 4]\n",
            " [2 5]\n",
            " [3 6]]  with dimensions  (3, 2)\n",
            "Stacked array 3 is \n",
            " [[1 4]\n",
            " [2 5]\n",
            " [3 6]]  with dimensions  (3, 2)\n"
          ]
        }
      ],
      "source": [
        "# Stacking 1-d Arrays\n",
        "\n",
        "array1 = np.array([1, 2, 3])\n",
        "print(\"Array 1 is \\n\", array1, \" with dimensions \", array1.shape, \"\\n\")\n",
        "\n",
        "array2 = np.array([4, 5, 6])\n",
        "print(\"Array 2 is \\n\", array2, \" with dimensions \", array2.shape, \"\\n\")\n",
        "\n",
        "\n",
        "stacked_array1 = np.stack((array1, array2), axis = 0)\n",
        "print(\"Stacked array 1 is \\n\", stacked_array1, \" with dimensions \", stacked_array1.shape)\n",
        "\n",
        "stacked_array2 = np.stack((array1, array2), axis = 1) \n",
        "print(\"Stacked array 2 is \\n\", stacked_array2, \" with dimensions \", stacked_array2.shape)\n",
        "\n",
        "stacked_array3 = np.stack((array1, array2), axis = -1) \n",
        "print(\"Stacked array 3 is \\n\", stacked_array3, \" with dimensions \", stacked_array3.shape)"
      ]
    },
    {
      "cell_type": "code",
      "execution_count": 31,
      "metadata": {
        "id": "xJejQM_B9vlb",
        "colab": {
          "base_uri": "https://localhost:8080/"
        },
        "outputId": "48109350-2092-487c-d158-c9754054ac54"
      },
      "outputs": [
        {
          "output_type": "stream",
          "name": "stdout",
          "text": [
            "Array 1 has dimensions  (3, 4, 5) \n",
            "\n",
            "Array 2 has dimensions  (3, 4, 5) \n",
            "\n",
            "Stacked array 1 has dimensions (2, 3, 4, 5) \n",
            "\n",
            "Stacked array 2 has dimensions (3, 2, 4, 5) \n",
            "\n",
            "Stacked array 3 has dimensions (3, 4, 2, 5) \n",
            "\n",
            "Stacked array 4 has dimensions (3, 4, 5, 2) \n",
            "\n"
          ]
        }
      ],
      "source": [
        "\n",
        "# Stacking Numpy Arrays\n",
        "\n",
        "array1 = np.random.randint(3, size = (3, 4, 5))\n",
        "print(\"Array 1 has dimensions \", array1.shape, \"\\n\")\n",
        "\n",
        "array2 = np.random.randint(4, size = (3, 4, 5))\n",
        "print(\"Array 2 has dimensions \", array2.shape, \"\\n\")\n",
        "\n",
        "stacked_array1 = np.stack((array1, array2), axis = 0)\n",
        "print(\"Stacked array 1 has dimensions\", stacked_array1.shape, \"\\n\")\n",
        "\n",
        "stacked_array2 = np.stack((array1, array2), axis = 1) \n",
        "print(\"Stacked array 2 has dimensions\", stacked_array2.shape, \"\\n\")\n",
        "\n",
        "stacked_array3 = np.stack((array1, array2), axis = 2) \n",
        "print(\"Stacked array 3 has dimensions\", stacked_array3.shape, \"\\n\")\n",
        "\n",
        "stacked_array4 = np.stack((array1, array2), axis = -1)\n",
        "print(\"Stacked array 4 has dimensions\", stacked_array4.shape, \"\\n\")"
      ]
    },
    {
      "cell_type": "markdown",
      "metadata": {
        "id": "5mqn0Zbb9vlb"
      },
      "source": [
        "### c. Repeat\n",
        "\n",
        "The repeat operation repeats elements of an array. The number of repetitions for each element is broadcasted to fit the shape of the given axis. The axis parameter specifies along which axis to repeat values. By default, it uses the flattened input array, and returns a flat output array."
      ]
    },
    {
      "cell_type": "code",
      "execution_count": 32,
      "metadata": {
        "id": "DFZW58y39vlc",
        "colab": {
          "base_uri": "https://localhost:8080/"
        },
        "outputId": "60131dd3-ed29-46a7-adeb-a0e3bc0a3e47"
      },
      "outputs": [
        {
          "output_type": "stream",
          "name": "stdout",
          "text": [
            "Array is \n",
            " [[1 2]\n",
            " [3 4]]  with dimensions  (2, 2) \n",
            "\n",
            "Repeated array 1 is \n",
            " [1 1 2 2 3 3 4 4] \n",
            "\n",
            " and the dimensions of the repeated array 1 are: \n",
            " (8,) \n",
            "\n",
            "Repeated array 2 is \n",
            " [[1 2]\n",
            " [1 2]\n",
            " [1 2]\n",
            " [3 4]\n",
            " [3 4]\n",
            " [3 4]] \n",
            "\n",
            " and the dimensions of the repeated array 2 are: \n",
            " (6, 2) \n",
            "\n",
            "Repeated array 3 is \n",
            " [[1 1 1 2 2 2]\n",
            " [3 3 3 4 4 4]] \n",
            "\n",
            " and the dimensions of the repeated array 3 are: \n",
            " (2, 6) \n",
            "\n",
            "Repeated array 4 is \n",
            " [[1 2]\n",
            " [1 2]\n",
            " [3 4]\n",
            " [3 4]\n",
            " [3 4]] \n",
            "\n",
            " and the dimensions of the repeated array 4 are: \n",
            " (5, 2) \n",
            "\n"
          ]
        }
      ],
      "source": [
        "\n",
        "# Repeat in Numpy Arrays\n",
        "\n",
        "original_array = np.array([[1,2],[3,4]])\n",
        "print(\"Array is \\n\", original_array, \" with dimensions \", original_array.shape, \"\\n\")\n",
        "\n",
        "repeated_array1 = np.repeat(original_array, 2)\n",
        "print(\"Repeated array 1 is \\n\", repeated_array1, \"\\n\\n\", \"and the dimensions of the repeated array 1 are: \\n\", repeated_array1.shape, \"\\n\")\n",
        "\n",
        "repeated_array2 = np.repeat(original_array, 3, axis=0)\n",
        "print(\"Repeated array 2 is \\n\", repeated_array2, \"\\n\\n\", \"and the dimensions of the repeated array 2 are: \\n\", repeated_array2.shape, \"\\n\")\n",
        "\n",
        "repeated_array3 = np.repeat(original_array, 3, axis=1)\n",
        "print(\"Repeated array 3 is \\n\", repeated_array3, \"\\n\\n\", \"and the dimensions of the repeated array 3 are: \\n\", repeated_array3.shape, \"\\n\")\n",
        "\n",
        "repeated_array4 = np.repeat(original_array, [2,3], axis=0)\n",
        "print(\"Repeated array 4 is \\n\", repeated_array4, \"\\n\\n\", \"and the dimensions of the repeated array 4 are: \\n\", repeated_array4.shape, \"\\n\")\n"
      ]
    },
    {
      "cell_type": "markdown",
      "metadata": {
        "id": "9g4v-F429vlc"
      },
      "source": [
        "## 8. Math operations"
      ]
    },
    {
      "cell_type": "markdown",
      "metadata": {
        "id": "Sa0WL6lH9vlc"
      },
      "source": [
        "In this section we will cover some commonly used mathematical operations\n",
        "1. Broadcasting\n",
        "1. Point-wise/element-wise operations\n",
        "1. Reduction operations\n",
        "1. Comparison operations\n",
        "1. Vector/Matrix operations\n",
        "1. Tensordot"
      ]
    },
    {
      "cell_type": "markdown",
      "metadata": {
        "id": "Dcf1tJXM9vlc"
      },
      "source": [
        "### a. Broadcasting"
      ]
    },
    {
      "cell_type": "code",
      "execution_count": 33,
      "metadata": {
        "id": "WNE9stTS9vlc",
        "colab": {
          "base_uri": "https://localhost:8080/"
        },
        "outputId": "05e2202e-9edc-41d9-8d3a-83ac39d7a7e7"
      },
      "outputs": [
        {
          "output_type": "stream",
          "name": "stdout",
          "text": [
            "A row array: \n",
            " [[0.33610277 0.52449814 0.4411869 ]]  with dimensions  (1, 3) \n",
            "\n",
            "A column array: \n",
            " [[0.26560355]\n",
            " [0.46361371]\n",
            " [0.87633217]\n",
            " [0.2303223 ]]  with dimensions  (4, 1) \n",
            "\n",
            "row array + column array = \n",
            "[[0.60170632 0.79010169 0.70679045]\n",
            " [0.79971648 0.98811185 0.9048006 ]\n",
            " [1.21243494 1.40083031 1.31751906]\n",
            " [0.56642507 0.75482044 0.6715092 ]]  with dimensions  (4, 3) \n",
            "\n",
            "row array * column array = \n",
            "[[0.08927009 0.13930857 0.11718081]\n",
            " [0.15582185 0.24316453 0.20454029]\n",
            " [0.29453767 0.4596346  0.38662627]\n",
            " [0.07741196 0.12080362 0.10161518]]  with dimensions  (4, 3) \n",
            "\n"
          ]
        }
      ],
      "source": [
        "# Broadcasting b/w arrays of different dimensions\n",
        "# Note: When broadting two multi-dimensional tensors, match their corresponding dimensions beginning from the last dimension.\n",
        "# All dimensions should either match or one of the arrays should have length 1 in that specific dimension\n",
        "\n",
        "row_arr = np.random.rand(1,3)\n",
        "print(\"A row array: \\n\", row_arr, \" with dimensions \", row_arr.shape, \"\\n\")\n",
        "col_arr = np.random.rand(4,1)\n",
        "print(\"A column array: \\n\", col_arr, \" with dimensions \", col_arr.shape, \"\\n\")\n",
        "\n",
        "add_arr = row_arr + col_arr\n",
        "print(\"row array + column array = \")\n",
        "print(add_arr,\" with dimensions \", add_arr.shape, \"\\n\")\n",
        "mul_arr = row_arr * col_arr\n",
        "print(\"row array * column array = \")\n",
        "print(mul_arr,\" with dimensions \", mul_arr.shape, \"\\n\")"
      ]
    },
    {
      "cell_type": "markdown",
      "metadata": {
        "id": "fenA5piu9vlc"
      },
      "source": [
        "### b. Element-wise operations"
      ]
    },
    {
      "cell_type": "code",
      "execution_count": 34,
      "metadata": {
        "id": "0q1dx2uf9vld",
        "colab": {
          "base_uri": "https://localhost:8080/"
        },
        "outputId": "2c468aae-ae4c-4f46-95a7-0f1d8b6edc89"
      },
      "outputs": [
        {
          "output_type": "stream",
          "name": "stdout",
          "text": [
            "A random array1 : \n",
            " [[0.48706388 0.69816557 0.63901393]\n",
            " [0.8290665  0.46829396 0.18557214]]  with dimensions  (2, 3) \n",
            "\n",
            "A random array2 : \n",
            " [[0.79920857 0.69392653 0.62012876]\n",
            " [0.26684396 0.22848414 0.08034882]]  with dimensions  (2, 3) \n",
            "\n",
            "random array1 + 5.0 =\n",
            "[[5.48706388 5.69816557 5.63901393]\n",
            " [5.8290665  5.46829396 5.18557214]] \n",
            "\n",
            "random array1 * 5.0 =\n",
            "[[2.43531938 3.49082786 3.19506967]\n",
            " [4.14533251 2.3414698  0.92786069]] \n",
            "\n",
            "random array1 + random array2 =\n",
            "[[1.28627245 1.3920921  1.25914269]\n",
            " [1.09591047 0.6967781  0.26592096]] \n",
            "\n",
            "random array1 * random array2 =\n",
            "[[0.38926563 0.48447561 0.39627092]\n",
            " [0.22123139 0.10699774 0.0149105 ]] \n",
            "\n",
            "abs (-10 * random array1) =\n",
            "[[4.87063877 6.98165571 6.39013933]\n",
            " [8.29066501 4.6829396  1.85572139]] \n",
            "\n",
            "sqrt(random array1) = \n",
            " [[0.69789962 0.83556303 0.79938347]\n",
            " [0.91053089 0.68432007 0.43078085]] \n",
            "\n"
          ]
        }
      ],
      "source": [
        "rand_arr_1 = np.random.rand(2,3)\n",
        "print(\"A random array1 : \\n\", rand_arr_1, \" with dimensions \", rand_arr_1.shape, \"\\n\")\n",
        "rand_arr_2 = np.random.rand(2,3)\n",
        "print(\"A random array2 : \\n\", rand_arr_2, \" with dimensions \", rand_arr_2.shape, \"\\n\")\n",
        "scalar = 5.0\n",
        "\n",
        "# Addition with Scalars\n",
        "new_arr_1 = rand_arr_1 + scalar\n",
        "print(\"random array1 + 5.0 =\")\n",
        "print(new_arr_1, \"\\n\")\n",
        "\n",
        "# Multiplication with Scalars\n",
        "new_arr_2 = rand_arr_1 * scalar\n",
        "print(\"random array1 * 5.0 =\")\n",
        "print(new_arr_2, \"\\n\")\n",
        "\n",
        "# Elementwise Addition of Arrays\n",
        "new_arr_3 = rand_arr_1 + rand_arr_2\n",
        "print(\"random array1 + random array2 =\")\n",
        "print(new_arr_3, \"\\n\")\n",
        "\n",
        "# Elementwise Multiplication of Arrays aka Hadmard Product\n",
        "new_arr_4 = rand_arr_1 * rand_arr_2\n",
        "print(\"random array1 * random array2 =\")\n",
        "print(new_arr_4, \"\\n\") # also equivalent to np.multiply(array1, array2)\n",
        "\n",
        "# Absolute value\n",
        "new_arr_5 = np.abs(-10*rand_arr_1)\n",
        "print(\"abs (-10 * random array1) =\")\n",
        "print(new_arr_5, \"\\n\")\n",
        "\n",
        "# Square root value\n",
        "new_arr_6 = np.sqrt(rand_arr_1)\n",
        "print('sqrt(random array1) = \\n', new_arr_6, \"\\n\")"
      ]
    },
    {
      "cell_type": "markdown",
      "metadata": {
        "id": "wapI6Q5s9vld"
      },
      "source": [
        "### c. Reduction"
      ]
    },
    {
      "cell_type": "code",
      "execution_count": 35,
      "metadata": {
        "id": "A9CjK_Dx9vld",
        "colab": {
          "base_uri": "https://localhost:8080/"
        },
        "outputId": "5af782e5-7ab5-46c3-8536-a19d80e49d1a"
      },
      "outputs": [
        {
          "output_type": "stream",
          "name": "stdout",
          "text": [
            "random array: \n",
            " [[0.17688172 0.39846924 0.74851021]\n",
            " [0.66482915 0.91879413 0.96025726]] \n",
            "\n",
            "Maximum value of array \n",
            " 0.9602572570446976 \n",
            "\n",
            "Minimum value of array \n",
            " 0.17688172231598498 \n",
            "\n",
            "Sum of array \n",
            " 3.8677417139605947 \n",
            "\n",
            "Maximum value's index of array along axis 0 \n",
            " [1 1 1] \n",
            "\n",
            "Minimum value's index of array along axis 1 \n",
            " [0 0] \n",
            "\n",
            "Mean value of array \n",
            " 0.6446236189934325 \n",
            "\n",
            "Standard deviation value of array \n",
            " 0.2784987156716585 \n",
            "\n",
            "Norm value of array \n",
            " 1.7200601352190334 \n",
            "\n"
          ]
        }
      ],
      "source": [
        "rand_arr = np.random.rand(2,3)\n",
        "print('random array: \\n', rand_arr, \"\\n\")\n",
        "\n",
        "max_val = np.max(rand_arr)\n",
        "print('Maximum value of array \\n', max_val, \"\\n\")\n",
        "min_val = np.min(rand_arr)\n",
        "print('Minimum value of array \\n', min_val, \"\\n\")\n",
        "\n",
        "sum_val = np.sum(rand_arr)\n",
        "print('Sum of array \\n', sum_val, \"\\n\")\n",
        "max_idx = np.argmax(rand_arr, axis=0)\n",
        "print('Maximum value\\'s index of array along axis 0 \\n', max_idx, \"\\n\")\n",
        "min_idx = np.argmin(rand_arr, axis=1)\n",
        "print('Minimum value\\'s index of array along axis 1 \\n', min_idx, \"\\n\")\n",
        "\n",
        "mean_val = np.mean(rand_arr)\n",
        "print('Mean value of array \\n', mean_val, \"\\n\")\n",
        "std_val = np.std(rand_arr)\n",
        "print('Standard deviation value of array \\n', std_val, \"\\n\")\n",
        "norm_val = np.linalg.norm(rand_arr)\n",
        "print('Norm value of array \\n', norm_val, \"\\n\")"
      ]
    },
    {
      "cell_type": "markdown",
      "metadata": {
        "id": "KWqzITsU9vld"
      },
      "source": [
        "### d. Comparision"
      ]
    },
    {
      "cell_type": "code",
      "execution_count": 36,
      "metadata": {
        "id": "DZEKkKZR9vle",
        "colab": {
          "base_uri": "https://localhost:8080/"
        },
        "outputId": "221c0bd2-0359-4d1f-aa1f-68e4549ed92d"
      },
      "outputs": [
        {
          "output_type": "stream",
          "name": "stdout",
          "text": [
            "random array1: \n",
            " [[0.36413694 0.03944343 0.26640729]\n",
            " [0.01945396 0.09515517 0.35779815]] \n",
            "\n",
            "random array2: \n",
            " [[0.00837673 0.85444859 0.69209669]\n",
            " [0.18577817 0.98275309 0.59872018]] \n",
            "\n",
            "random array1 > random array2\n",
            "[[ True False False]\n",
            " [False False False]] \n",
            "\n",
            "random array1 < random array2\n",
            "[[False  True  True]\n",
            " [ True  True  True]] \n",
            "\n",
            "random array1 != random array2\n",
            "[[ True  True  True]\n",
            " [ True  True  True]] \n",
            "\n",
            "any values for random array1 > random array2:\n",
            "True \n",
            "\n",
            "all values for random array1 > random array2:\n",
            "False \n",
            "\n",
            "any values along first axis for random array1 > random array2:\n",
            "[ True False False] \n",
            "\n",
            "any values along second axis for random array1 > random array2:\n",
            "[ True False] \n",
            "\n",
            "any values for random array1 != random array2:\n",
            "True \n",
            "\n",
            "all values for random array1 != random array2:\n",
            "True \n",
            "\n"
          ]
        }
      ],
      "source": [
        "rand_arr_1 = np.random.rand(2,3)\n",
        "print('random array1: \\n', rand_arr_1, '\\n')\n",
        "rand_arr_2 = np.random.rand(2,3)\n",
        "print('random array2: \\n', rand_arr_2, '\\n')\n",
        "\n",
        "# Element-wise Comparison Operations\n",
        "greater_compare = rand_arr_1 > rand_arr_2\n",
        "print('random array1 > random array2')\n",
        "print(greater_compare, '\\n')\n",
        "\n",
        "less_compare = rand_arr_1 < rand_arr_2\n",
        "print('random array1 < random array2')\n",
        "print(less_compare, '\\n')\n",
        "\n",
        "not_equal_compare = rand_arr_1 != rand_arr_2\n",
        "print('random array1 != random array2')\n",
        "print(not_equal_compare, '\\n')\n",
        "\n",
        "# Combining reduction operations with boolean arrays\n",
        "print(\"any values for random array1 > random array2:\")\n",
        "print((rand_arr_1 > rand_arr_2).any(), \"\\n\")\n",
        "\n",
        "print(\"all values for random array1 > random array2:\")\n",
        "print((rand_arr_1 > rand_arr_2).all(), \"\\n\")\n",
        "\n",
        "print(\"any values along first axis for random array1 > random array2:\")\n",
        "print((rand_arr_1 > rand_arr_2).any(axis=0), \"\\n\")\n",
        "\n",
        "print(\"any values along second axis for random array1 > random array2:\")\n",
        "print((rand_arr_1 > rand_arr_2).any(axis=1), \"\\n\")\n",
        "\n",
        "print(\"any values for random array1 != random array2:\")\n",
        "print((rand_arr_1 != rand_arr_2).any(), \"\\n\")\n",
        "\n",
        "print(\"all values for random array1 != random array2:\")\n",
        "print((rand_arr_1 != rand_arr_2).all(), \"\\n\")"
      ]
    },
    {
      "cell_type": "markdown",
      "metadata": {
        "id": "26U8iMGY9vle"
      },
      "source": [
        "### e. Vector/Matrix operations"
      ]
    },
    {
      "cell_type": "code",
      "execution_count": 37,
      "metadata": {
        "id": "MhrngBza9vle",
        "colab": {
          "base_uri": "https://localhost:8080/"
        },
        "outputId": "1bdfb407-aef7-4540-c781-29cc196998ab"
      },
      "outputs": [
        {
          "output_type": "stream",
          "name": "stdout",
          "text": [
            "Array1 \n",
            " [1.09952895 0.36851628 1.36827247] with dimension  (3,) \n",
            "\n",
            "Array2 \n",
            " [ 1.40659489 -1.39487406  0.11404857] with dimension  (3,) \n",
            "\n",
            "Matmul of the two arrays can be derived by using np.matmul(array1, array2) \n",
            " 1.1886075258866278\n",
            "Matmul of the two arrays can also be derived by using array1@array2 \n",
            " 1.1886075258866278\n",
            "Dimensions of resulting product: \n",
            " ()\n",
            "Array3 \n",
            " [[-1.74053051  0.37210927  0.12650471  0.6361362 ]\n",
            " [ 0.64053941  0.09708991 -1.00362899 -0.40267958]\n",
            " [-0.30974448 -0.93253118 -1.02719199 -0.1656264 ]] with dimension  (3, 4) \n",
            "\n",
            "Array4 \n",
            " [-0.28379    -0.09482986  0.73261972 -0.16234026] with dimension  (4,) \n",
            "\n",
            "Matmul of a vector and a matrix can be derived by using np.matmul(array3, array4) \n",
            " [ 0.44806743 -0.86089298 -0.54931909]\n",
            "Matmul of a vector and a matrix can also be derived by using array3@array4 \n",
            " [ 0.44806743 -0.86089298 -0.54931909]\n",
            "Dimensions of resulting product: \n",
            " (3,)\n",
            "Matrix1 \n",
            " [[2 1 2]\n",
            " [0 2 3]] with dimension  (2, 3) \n",
            "\n",
            "Matrix2 \n",
            " [[2 3]\n",
            " [0 1]\n",
            " [3 2]] with dimension  (3, 2) \n",
            "\n",
            "Matmul of two matrices can be derived by using np.matmul(matrix1, matrix2) \n",
            " [[10 11]\n",
            " [ 9  8]]\n",
            "Dimensions of resulting product: \n",
            " (2, 2) \n",
            "\n"
          ]
        }
      ],
      "source": [
        "# Vector x Vector\n",
        "array1 = np.random.randn(3)\n",
        "array2 = np.random.randn(3)\n",
        "\n",
        "print('Array1 \\n', array1, 'with dimension ', array1.shape, '\\n')\n",
        "print('Array2 \\n', array2, 'with dimension ', array2.shape, '\\n')\n",
        "\n",
        "matmul_arr = np.matmul(array1, array2)\n",
        "another_arr = array1@array2\n",
        "print('Matmul of the two arrays can be derived by using np.matmul(array1, array2) \\n', matmul_arr)\n",
        "print(\"Matmul of the two arrays can also be derived by using array1@array2 \\n\", another_arr)\n",
        "print('Dimensions of resulting product: \\n', matmul_arr.shape)\n",
        "\n",
        "# Matrix x Vector\n",
        "array3 = np.random.randn(3, 4)\n",
        "array4 = np.random.randn(4)\n",
        "\n",
        "print('Array3 \\n', array3, 'with dimension ', array3.shape, '\\n')\n",
        "print('Array4 \\n', array4, 'with dimension ', array4.shape, '\\n')\n",
        "\n",
        "matmul_arr = np.matmul(array3, array4)\n",
        "another_arr = array3@array4\n",
        "print('Matmul of a vector and a matrix can be derived by using np.matmul(array3, array4) \\n', matmul_arr)\n",
        "print('Matmul of a vector and a matrix can also be derived by using array3@array4 \\n', another_arr)\n",
        "print('Dimensions of resulting product: \\n', matmul_arr.shape)\n",
        "\n",
        "# Matrix x Matrix \n",
        "\n",
        "matrix1 = np.random.randint(4, size = (2, 3))\n",
        "matrix2 = np.random.randint(4, size = (3, 2))\n",
        "\n",
        "print('Matrix1 \\n', matrix1, 'with dimension ', matrix1.shape, '\\n')\n",
        "print('Matrix2 \\n', matrix2, 'with dimension ', matrix2.shape, '\\n')\n",
        "\n",
        "matmul_mat = np.matmul(matrix1, matrix2)\n",
        "print('Matmul of two matrices can be derived by using np.matmul(matrix1, matrix2) \\n', matmul_mat)\n",
        "print('Dimensions of resulting product: \\n', matmul_mat.shape, \"\\n\")"
      ]
    },
    {
      "cell_type": "code",
      "execution_count": 38,
      "metadata": {
        "id": "ZD4VFSkj9vle",
        "colab": {
          "base_uri": "https://localhost:8080/"
        },
        "outputId": "7573ac28-aa1b-492c-c035-94c593037daa"
      },
      "outputs": [
        {
          "output_type": "stream",
          "name": "stdout",
          "text": [
            "Matrix1 \n",
            " [[0.59475627 0.57568374]\n",
            " [0.5207887  0.7737808 ]\n",
            " [0.23588815 0.36902809]\n",
            " [0.00260966 0.61040999]] with dimension  (4, 2) \n",
            "\n",
            "Matrix2 \n",
            " [[0.37310589 0.46196143 0.8585973 ]\n",
            " [0.21207721 0.78258506 0.78775909]] with dimension  (2, 3) \n",
            "\n",
            "Dot product of two matrices can be derived by using np.dot(mat1, mat2) \n",
            " [[0.34399647 0.72527595 0.96415623]\n",
            " [0.3584106  0.84613359 1.05670063]\n",
            " [0.16627371 0.3977671  0.49323816]\n",
            " [0.13042773 0.4789033  0.48309666]]\n",
            "Dot product of two matrices can also be derived by using mat1@mat2 \n",
            " [[0.34399647 0.72527595 0.96415623]\n",
            " [0.3584106  0.84613359 1.05670063]\n",
            " [0.16627371 0.3977671  0.49323816]\n",
            " [0.13042773 0.4789033  0.48309666]]\n",
            "Dimensions of resulting product: \n",
            " (4, 3)\n",
            "array1 's dimension  (9, 5, 7, 4) \n",
            "\n",
            "array2 's dimension  (9, 5, 4, 3) \n",
            "\n",
            "Matmul of two multi-dimension arrays can be derived by using np.matmul(array1, array2) \n",
            "\n",
            "Dimensions of resulting product: \n",
            " (9, 5, 7, 3)\n"
          ]
        }
      ],
      "source": [
        "rand_mat_1 = np.random.rand(4,2)\n",
        "rand_mat_2 = np.random.rand(2,3)\n",
        "print('Matrix1 \\n', rand_mat_1, 'with dimension ', rand_mat_1.shape, '\\n')\n",
        "print('Matrix2 \\n', rand_mat_2, 'with dimension ', rand_mat_2.shape, '\\n')\n",
        "\n",
        "# dot product\n",
        "dot_mat = np.dot(rand_mat_1, rand_mat_2)\n",
        "another_mat = rand_mat_1@rand_mat_2\n",
        "print('Dot product of two matrices can be derived by using np.dot(mat1, mat2) \\n', dot_mat)\n",
        "print('Dot product of two matrices can also be derived by using mat1@mat2 \\n', another_mat)\n",
        "print('Dimensions of resulting product: \\n', dot_mat.shape)\n",
        "\n",
        "a = np.ones([9, 5, 7, 4])\n",
        "b = np.ones([9, 5, 4, 3])\n",
        "print('array1 \\'s dimension ', a.shape, '\\n')\n",
        "print('array2 \\'s dimension ', b.shape, '\\n')\n",
        "\n",
        "# matmul with multi-dimenstion arrays\n",
        "c = np.matmul(a,b)\n",
        "print('Matmul of two multi-dimension arrays can be derived by using np.matmul(array1, array2) \\n')\n",
        "print('Dimensions of resulting product: \\n', c.shape)"
      ]
    },
    {
      "cell_type": "markdown",
      "metadata": {
        "id": "OIaXS_R09vle"
      },
      "source": [
        "### f. Tensordot\n",
        "\n",
        "Understanding tensordot function will help you in writing succint code for your homeworks especially in Convolutional Neural Net assignment.\n",
        "\n",
        "To give a brief overview: \n",
        "We input the arrays and the respective axes along which the sum-reductions are intended. The axes that take part in sum-reduction are removed in the output and all of the remaining axes from the input arrays are spread-out as different axes in the output keeping the order in which the input arrays are fed.\n",
        "\n",
        "To understand in depth please checkout: https://stackoverflow.com/questions/41870228/understanding-tensordot"
      ]
    },
    {
      "cell_type": "code",
      "execution_count": 39,
      "metadata": {
        "id": "3Kp_r0q19vlf",
        "colab": {
          "base_uri": "https://localhost:8080/"
        },
        "outputId": "0fc7307d-2cbe-40d8-f848-6f86db4e77ac"
      },
      "outputs": [
        {
          "output_type": "stream",
          "name": "stdout",
          "text": [
            "A 's dimension  (3, 4, 5) \n",
            "\n",
            "B 's dimension  (4, 3, 2) \n",
            "\n",
            "A⨂B =\n",
            " [[4400. 4730.]\n",
            " [4532. 4874.]\n",
            " [4664. 5018.]\n",
            " [4796. 5162.]\n",
            " [4928. 5306.]]  with dimension (5, 2) \n",
            "\n",
            "tensor dot is equal to sum over certain dimensions.\n",
            "\n",
            "[[ True  True]\n",
            " [ True  True]\n",
            " [ True  True]\n",
            " [ True  True]\n",
            " [ True  True]]\n"
          ]
        }
      ],
      "source": [
        "a = np.arange(60.).reshape(3,4,5)\n",
        "b = np.arange(24.).reshape(4,3,2)\n",
        "print('A \\'s dimension ', a.shape, '\\n')\n",
        "print('B \\'s dimension ', b.shape, '\\n')\n",
        "\n",
        "# compute tensor dot product along specified axes.\n",
        "c = np.tensordot(a,b, axes=([1,0],[0,1]))\n",
        "print(\"A⨂B =\\n\", c, ' with dimension', c.shape, '\\n')\n",
        "\n",
        "# this equals to \n",
        "d = np.zeros((5,2))\n",
        "for i in range(5):\n",
        "  for j in range(2):\n",
        "    for k in range(3):\n",
        "      for n in range(4):\n",
        "        d[i,j] += a[k,n,i] * b[n,k,j]\n",
        "print(\"tensor dot is equal to sum over certain dimensions.\\n\")\n",
        "print(c==d)"
      ]
    }
  ],
  "metadata": {
    "kernelspec": {
      "display_name": "Python 3.9.1 64-bit",
      "language": "python",
      "name": "python3"
    },
    "language_info": {
      "name": "python",
      "version": "3.9.1"
    },
    "orig_nbformat": 4,
    "vscode": {
      "interpreter": {
        "hash": "397704579725e15f5c7cb49fe5f0341eb7531c82d19f2c29d197e8b64ab5776b"
      }
    },
    "colab": {
      "provenance": [],
      "include_colab_link": true
    }
  },
  "nbformat": 4,
  "nbformat_minor": 0
}