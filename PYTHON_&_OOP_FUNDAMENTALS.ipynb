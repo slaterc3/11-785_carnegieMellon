{
  "cells": [
    {
      "cell_type": "markdown",
      "metadata": {
        "id": "view-in-github",
        "colab_type": "text"
      },
      "source": [
        "<a href=\"https://colab.research.google.com/github/slaterc3/11-785_carnegieMellon/blob/main/PYTHON_%26_OOP_FUNDAMENTALS.ipynb\" target=\"_parent\"><img src=\"https://colab.research.google.com/assets/colab-badge.svg\" alt=\"Open In Colab\"/></a>"
      ]
    },
    {
      "cell_type": "markdown",
      "id": "8a1180a3",
      "metadata": {
        "id": "8a1180a3"
      },
      "source": [
        "### Introduction\n",
        "This tutorial is designed to introduce you to the fundamentals of python programming by providing you with the basic understanding of the Python datatypes, language syntax, and methods. We also cover the notion of Object Oriented Programming as applied to Python. \n",
        "\n",
        "Please note that this tutorial is introductory and we expect you to leverage the concepts introduced here to build more competent Python programming skills even as you advance in the IDL course.\n",
        "\n",
        "We cover the following concepts in this tutorial\n",
        "1. Python Data Types and associated Methods\n",
        "2. Python Built-in Functions\n",
        "2. Logical statements (if...else)\n",
        "3. Looping\n",
        "4. File Methods\n",
        "5. User-Defined Functions\n",
        "6. Recursion\n",
        "7. Errors & Exception Handling\n",
        "9. Object Oriented Programming (OOP)"
      ]
    },
    {
      "cell_type": "markdown",
      "id": "70626876",
      "metadata": {
        "id": "70626876"
      },
      "source": [
        "#### Python Data Types and Manipulations\n",
        "##### Numeric"
      ]
    },
    {
      "cell_type": "code",
      "execution_count": 1,
      "id": "29f9a7c7",
      "metadata": {
        "colab": {
          "base_uri": "https://localhost:8080/"
        },
        "id": "29f9a7c7",
        "outputId": "b2785c40-c828-4c0a-8c18-e36426d93b38"
      },
      "outputs": [
        {
          "output_type": "stream",
          "name": "stdout",
          "text": [
            "The addition of 23 and 8.98 is 31.98\n",
            "The subtraction of 3.56 from -21 is -24.56\n",
            "\n",
            "The division of 23 by 8.98 is 2.5612472160356345\n",
            "The multiplication of 23 and 3.56 is 81.88\n",
            "\n",
            "The quotient when we divide 23 by -21 is -2\n",
            "The remainder when we divide 23 by -21 is -19\n"
          ]
        }
      ],
      "source": [
        "# We have three numeric data types: Integers, Floating points, and Complex numbers\n",
        "\n",
        "# We will focus on Integers and Floating points\n",
        "\n",
        "# Assign integer numbers to variables\n",
        "int_1 = 23\n",
        "int_2 = -21\n",
        "int_3 = 5\n",
        "\n",
        "# Assign floating point numbers to variables\n",
        "floating_1 = 3.56\n",
        "floating_2 = 8.98\n",
        "\n",
        "# We can perform arithmetic operations with the numeric values\n",
        "add_ = int_1 + floating_2\n",
        "sub_ = int_2 - floating_1\n",
        "div_2 = int_1 / floating_2\n",
        "mult_ = int_1 * floating_1\n",
        "\n",
        "# Return the quotient after a numeric division\n",
        "div_1 = int_1 // int_2\n",
        "\n",
        "# We can also get just the remainder after a numeric division\n",
        "rem_ = int_1 % int_2\n",
        "\n",
        "# The print built-in function comes in handy when you want to print a mix of variables and text/string\n",
        "print(\"The addition of\", int_1, \"and\", floating_2, \"is\", add_)\n",
        "\n",
        "# We can also use the 'f-format' print function to make printing easier and cohesive\n",
        "print(f\"The subtraction of {floating_1} from {int_2} is {sub_}\\n\")\n",
        "\n",
        "print(f\"The division of {int_1} by {floating_2} is {div_2}\")\n",
        "\n",
        "print(f\"The multiplication of {int_1} and {floating_1} is {mult_}\\n\")\n",
        "\n",
        "print(f\"The quotient when we divide {int_1} by {int_2} is {div_1}\")\n",
        "\n",
        "print(f\"The remainder when we divide {int_1} by {int_2} is {rem_}\")"
      ]
    },
    {
      "cell_type": "markdown",
      "id": "1cce58bc",
      "metadata": {
        "id": "1cce58bc"
      },
      "source": [
        "##### Strings"
      ]
    },
    {
      "cell_type": "code",
      "execution_count": 2,
      "id": "85cd9a2b",
      "metadata": {
        "colab": {
          "base_uri": "https://localhost:8080/"
        },
        "id": "85cd9a2b",
        "outputId": "df8aba74-9491-49e0-ff4e-3108c7dd7052"
      },
      "outputs": [
        {
          "output_type": "stream",
          "name": "stdout",
          "text": [
            "IDL is a fun COURSE\n",
            "34.5\n",
            "[34, \"I am not kidding\"]\n"
          ]
        }
      ],
      "source": [
        "# We can create a string in python by using a single or double quotes around any piece of text\n",
        "str_1 = \"IDL is a fun COURSE\"\n",
        "\n",
        "# Putting numeric values in a quotes makes it a string\n",
        "str_2 = '34.5'\n",
        "\n",
        "# We need to escape the quote characters using backslash ('\\') if we want to use them literally\n",
        "str_3 = \"[34, \\\"I am not kidding\\\"]\"\n",
        "\n",
        "print(str_1,'\\n',str_2,'\\n',str_3, sep=\"\")"
      ]
    },
    {
      "cell_type": "code",
      "execution_count": 3,
      "id": "e157f2e2",
      "metadata": {
        "colab": {
          "base_uri": "https://localhost:8080/"
        },
        "id": "e157f2e2",
        "outputId": "5a8c3c07-c80e-49ce-ecc2-c70fa438d6c9"
      },
      "outputs": [
        {
          "output_type": "stream",
          "name": "stdout",
          "text": [
            "The first character in \"IDL is a fun COURSE\" is \"I\"\n",
            "The thrid character in \"IDL is a fun COURSE\" is \"L\"\n",
            "The last character in \"IDL is a fun COURSE\" is \"E\"\n",
            "The first five characters in \"IDL is a fun COURSE\" is \"IDL i\"\n",
            "The last three characters in \"IDL is a fun COURSE\" is \"RSE\"\n"
          ]
        }
      ],
      "source": [
        "# We can access the characters of a string by indexing; Remember Python uses 'Zero-based' Indexing\n",
        "# Spaces are also counted as characters in a string\n",
        "\n",
        "first_char = str_1[0]\n",
        "third_char = str_1[2]\n",
        "last_char = str_1[-1]\n",
        "\n",
        "# We can also get a sub-string from the whole string also by using the indexing approach\n",
        "first_five = str_1[0:5]\n",
        "last_three = str_1[-3:]\n",
        "\n",
        "print(f\"The first character in \\\"{str_1}\\\" is \\\"{first_char}\\\"\")\n",
        "print(f\"The thrid character in \\\"{str_1}\\\" is \\\"{third_char}\\\"\")\n",
        "print(f\"The last character in \\\"{str_1}\\\" is \\\"{last_char}\\\"\")\n",
        "print(f\"The first five characters in \\\"{str_1}\\\" is \\\"{first_five}\\\"\")\n",
        "print(f\"The last three characters in \\\"{str_1}\\\" is \\\"{last_three}\\\"\")"
      ]
    },
    {
      "cell_type": "code",
      "execution_count": 4,
      "id": "cca55e98",
      "metadata": {
        "colab": {
          "base_uri": "https://localhost:8080/"
        },
        "id": "cca55e98",
        "outputId": "4ee38d8c-8b07-4c82-9b7c-615c20f95c82"
      },
      "outputs": [
        {
          "output_type": "stream",
          "name": "stdout",
          "text": [
            "The length of \"[34, \"I am not kidding\"]\" is 24\n",
            "Spliting \"IDL is a fun COURSE\" based on space we get ['IDL', 'is', 'a', 'fun', 'COURSE']\n",
            "Spliting \"IDL is a fun COURSE\" based on \"s\" we get ['IDL i', ' a fun COURSE']\n"
          ]
        }
      ],
      "source": [
        "# We use the len() built-in function to find the length of a string\n",
        "str_3_length = len(str_3)\n",
        "\n",
        "# Split a string based on a delimeter using the split() function\n",
        "split_str_1 = str_1.split()\n",
        "split_s_str_1 = str_1.split('s')\n",
        "\n",
        "print(f\"The length of \\\"{str_3}\\\" is {str_3_length}\")\n",
        "\n",
        "print(f\"Spliting \\\"{str_1}\\\" based on space we get {split_str_1}\")\n",
        "print(f\"Spliting \\\"{str_1}\\\" based on \\\"s\\\" we get {split_s_str_1}\")"
      ]
    },
    {
      "cell_type": "code",
      "execution_count": 5,
      "id": "4bfb9f03",
      "metadata": {
        "colab": {
          "base_uri": "https://localhost:8080/"
        },
        "id": "4bfb9f03",
        "outputId": "68035bae-2343-46ec-c023-5365fc2a7773"
      },
      "outputs": [
        {
          "output_type": "stream",
          "name": "stdout",
          "text": [
            "\"I LOVE IDL COURSE\" in lower case is \"i love idl course\"\n",
            "\"fun and amazing\" in upper case is \"FUN AND AMAZING\"\n"
          ]
        }
      ],
      "source": [
        "# We can use the lower and upper to convert from upper case to lower case and vice versa\n",
        "str_4 = \"I LOVE IDL COURSE\"\n",
        "str_5 = \"fun and amazing\"\n",
        "\n",
        "str_4_lower = str_4.lower()\n",
        "str_5_upper = str_5.upper()\n",
        "\n",
        "print(f\"\\\"{str_4}\\\" in lower case is \\\"{str_4_lower}\\\"\")\n",
        "print(f\"\\\"{str_5}\\\" in upper case is \\\"{str_5_upper}\\\"\")\n"
      ]
    },
    {
      "cell_type": "code",
      "execution_count": 6,
      "id": "9696c3b6",
      "metadata": {
        "colab": {
          "base_uri": "https://localhost:8080/"
        },
        "id": "9696c3b6",
        "outputId": "346bb2cc-c075-4a93-f30d-9f8f025d92e0"
      },
      "outputs": [
        {
          "output_type": "stream",
          "name": "stdout",
          "text": [
            "Adding strings together we get I LOVE IDL COURSE it is fun and amazing\n",
            "Multiplying I LOVE IDL COURSE by 3 we get I LOVE IDL COURSEI LOVE IDL COURSEI LOVE IDL COURSE\n"
          ]
        }
      ],
      "source": [
        "# We can also add two strings together\n",
        "str_6 = str_4 + \" it is \" + str_5\n",
        "\n",
        "# Multiply a string by a number\n",
        "str_7 = str_4 * 3\n",
        "\n",
        "print(f\"Adding strings together we get {str_6}\")\n",
        "print(f\"Multiplying {str_4} by 3 we get {str_7}\")"
      ]
    },
    {
      "cell_type": "markdown",
      "id": "02f3821b",
      "metadata": {
        "id": "02f3821b"
      },
      "source": [
        "##### List"
      ]
    },
    {
      "cell_type": "code",
      "execution_count": 7,
      "id": "05daf111",
      "metadata": {
        "id": "05daf111"
      },
      "outputs": [],
      "source": [
        "# We create a list using the square brackets; \n",
        "list_1 = [34, 45, 56, 89, 12.5, 20, 3.4]\n",
        "\n",
        "list_2 = ['sam', 'IDL', 'love', 'create']\n",
        "\n",
        "list_3 = [34, 22, 'novice', 'claim', '45.3', 90.07]\n",
        "\n",
        "list_4 = [['IBM', 'Microsoft', 43], 'Dell', [23, 65], 'calm', 76.98]"
      ]
    },
    {
      "cell_type": "code",
      "execution_count": 8,
      "id": "ea6dea6e",
      "metadata": {
        "colab": {
          "base_uri": "https://localhost:8080/"
        },
        "id": "ea6dea6e",
        "outputId": "6137218e-e8cc-4d3d-c068-87202518ee7f"
      },
      "outputs": [
        {
          "output_type": "stream",
          "name": "stdout",
          "text": [
            "list_5 = [34, 22, 'novice', 'claim', '45.3', 90.07, ['IBM', 'Microsoft', 43], 'Dell', [23, 65], 'calm', 76.98]\n",
            "list_2 = ['sam', 'IDL', 'love', 'create', 34, 45, 56, 89, 12.5, 20, 3.4]\n"
          ]
        }
      ],
      "source": [
        "# Adding list together creates a list containing both lists\n",
        "list_5 = list_3 + list_4\n",
        "\n",
        "# Alternatively we can also extend a list using the extend() function\n",
        "list_2.extend(list_1)\n",
        "\n",
        "print(f\"list_5 = {list_5}\")\n",
        "print(f\"list_2 = {list_2}\")"
      ]
    },
    {
      "cell_type": "code",
      "execution_count": 10,
      "id": "a3d65cf5",
      "metadata": {
        "colab": {
          "base_uri": "https://localhost:8080/"
        },
        "id": "a3d65cf5",
        "outputId": "b51a8075-f58d-4ffb-fb04-57259f9f1678"
      },
      "outputs": [
        {
          "output_type": "stream",
          "name": "stdout",
          "text": [
            "list_5: [34, 22, 'novice', 'claim', '45.3', 90.07, ['IBM', 'Microsoft', 43], 'Dell', [23, 65], 'calm', 76.98]\n",
            "first item: 34\n",
            "seventh item: ['IBM', 'Microsoft', 43]\n",
            "last three items: [[23, 65], 'calm', 76.98]\n"
          ]
        }
      ],
      "source": [
        "# We can select an item in a list using indexing just like we did with strings; remember 'zero-based' indexing\n",
        "first_item = list_5[0]\n",
        "seventh_item = list_5[6]\n",
        "last_item = list_5[-1]\n",
        "\n",
        "# Selecting a range of items\n",
        "four_items = list_5[4:8]\n",
        "last_three_items = list_5[-3:]\n",
        "\n",
        "print(f\"list_5: {list_5}\")\n",
        "print(f\"first item: {first_item}\")\n",
        "print(f\"seventh item: {seventh_item}\")\n",
        "print(f\"last three items: {last_three_items}\")"
      ]
    },
    {
      "cell_type": "code",
      "execution_count": 11,
      "id": "0e3ba91b",
      "metadata": {
        "colab": {
          "base_uri": "https://localhost:8080/"
        },
        "id": "0e3ba91b",
        "outputId": "b37b6e24-219f-43d5-a275-696920e6c4fb"
      },
      "outputs": [
        {
          "output_type": "stream",
          "name": "stdout",
          "text": [
            "list_2: ['sam', 'IDL', 'love', 'create']\n",
            "After appending \"Google\": ['sam', 'IDL', 'love', 'create', 'Google']\n",
            "\n",
            "\n",
            "After removing \"sam\": ['IDL', 'love', 'create', 'Google']\n",
            "After inserting \"Amazon\" at index 1: ['IDL', 'Amazon', 'love', 'create', 'Google']\n",
            "\n",
            "list_6: ['Google', 'Microsoft', 'IBM', 'Apple', 'Microsoft', 'Microsoft', 'IBM', 'Apple']\n",
            "The number of \"Microsoft\" in the list is: 3\n"
          ]
        }
      ],
      "source": [
        "list_2 = ['sam', 'IDL', 'love', 'create']\n",
        "\n",
        "# We can add to the end of a list using append() function\n",
        "print(f\"list_2: {list_2}\")\n",
        "\n",
        "list_2.append('Google')\n",
        "\n",
        "print(f\"After appending \\\"Google\\\": {list_2}\")\n",
        "print()\n",
        "\n",
        "\n",
        "# Use remove() method to remove the first instance of specified item\n",
        "list_2.remove('sam')\n",
        "print()\n",
        "print(f\"After removing \\\"sam\\\": {list_2}\")\n",
        "\n",
        "# Use insert() method to add an item to a specified position\n",
        "list_2.insert(1, 'Amazon')\n",
        "print(f\"After inserting \\\"Amazon\\\" at index 1: {list_2}\")\n",
        "\n",
        "list_6 = ['Google', 'Microsoft', 'IBM', 'Apple', 'Microsoft', 'Microsoft', 'IBM', 'Apple']\n",
        "# Use count() method to count the number of element in a list\n",
        "print(f\"\\nlist_6: {list_6}\")\n",
        "print(f\"The number of \\\"Microsoft\\\" in the list is: {list_6.count('Microsoft')}\")"
      ]
    },
    {
      "cell_type": "code",
      "execution_count": 15,
      "id": "27682397",
      "metadata": {
        "colab": {
          "base_uri": "https://localhost:8080/"
        },
        "id": "27682397",
        "outputId": "1dcab4a9-4cd7-4341-af89-24a34cc46acf"
      },
      "outputs": [
        {
          "output_type": "stream",
          "name": "stdout",
          "text": [
            "list before: ['Blue', 'Green', 'Yellow']\n",
            "Reversed list: ['Yellow', 'Green', 'Blue']\n",
            "\n",
            "Blue in ['Yellow', 'Green', 'Blue']: True\n",
            "Red in ['Yellow', 'Green', 'Blue']: False\n"
          ]
        }
      ],
      "source": [
        "list_7 = ['Blue', 'Green', 'Yellow']\n",
        "\n",
        "# Use the reverse() method to reverse a list order\n",
        "print(f\"list before: {list_7}\")\n",
        "list_7.reverse()\n",
        "\n",
        "print(f\"Reversed list: {list_7}\")\n",
        "print()\n",
        "\n",
        "# Check if an element is in a list using the \"in\" keyword\n",
        "answer_1 = 'Blue' in list_7\n",
        "answer_2 = 'Red' in list_7\n",
        "\n",
        "print(f\"Blue in {list_7}: {answer_1}\")\n",
        "print(f\"Red in {list_7}: {answer_2}\")"
      ]
    },
    {
      "cell_type": "markdown",
      "id": "97b16abc",
      "metadata": {
        "id": "97b16abc"
      },
      "source": [
        "##### Tuples"
      ]
    },
    {
      "cell_type": "code",
      "execution_count": 16,
      "id": "3c4726d9",
      "metadata": {
        "colab": {
          "base_uri": "https://localhost:8080/"
        },
        "id": "3c4726d9",
        "outputId": "85741ef0-5c01-4242-9dea-ee0fc7416b4a"
      },
      "outputs": [
        {
          "output_type": "stream",
          "name": "stdout",
          "text": [
            "('great', 'IDL')\n",
            "(23.4, 'Yes')\n",
            "\n",
            "[('Peter', 'Nigeria', 22), ('Sandra', 'USA', 23), ('Samantha', 'Spain', 26), ('Varun', 'India', 20)]\n"
          ]
        }
      ],
      "source": [
        "# Create tuples using parenthesis; same as list but immutable\n",
        "tup_1 = ('great', 'IDL')\n",
        "tup_2 = (23.4, 'Yes')\n",
        "\n",
        "# Create a list of tuples by 'zipping' two or more list of equal lengths\n",
        "list_8 = ['Peter', 'Sandra', 'Samantha', 'Varun']\n",
        "list_9 = ['Nigeria', 'USA', 'Spain', 'India']\n",
        "list_10 = [22, 23, 26, 20]\n",
        "\n",
        "tup_list = list(zip(list_8, list_9, list_10))\n",
        "print(tup_1)\n",
        "print(tup_2)\n",
        "print()\n",
        "\n",
        "\n",
        "print(tup_list)"
      ]
    },
    {
      "cell_type": "code",
      "execution_count": 17,
      "id": "ec081c60",
      "metadata": {
        "colab": {
          "base_uri": "https://localhost:8080/"
        },
        "id": "ec081c60",
        "outputId": "067bb3b5-e217-46d7-b76f-de8a0b7189cc"
      },
      "outputs": [
        {
          "output_type": "stream",
          "name": "stdout",
          "text": [
            "The index of 'great' in ('great', 'IDL'): 0\n",
            "The index of 'Yes' in (23.4, 'Yes'): 1\n"
          ]
        }
      ],
      "source": [
        "# Get the index of an element in a tuple\n",
        "print(f\"The index of 'great' in {tup_1}: {tup_1.index('great')}\")\n",
        "print(f\"The index of 'Yes' in {tup_2}: {tup_2.index('Yes')}\")"
      ]
    },
    {
      "cell_type": "markdown",
      "id": "c7d5dad6",
      "metadata": {
        "id": "c7d5dad6"
      },
      "source": [
        "##### Set"
      ]
    },
    {
      "cell_type": "code",
      "execution_count": 22,
      "id": "3cb085c4",
      "metadata": {
        "colab": {
          "base_uri": "https://localhost:8080/"
        },
        "id": "3cb085c4",
        "outputId": "16af149a-e13d-472c-ca0f-ad1078dbd3c8"
      },
      "outputs": [
        {
          "output_type": "stream",
          "name": "stdout",
          "text": [
            "{'White', 'Yellow', 'Orange', 'Blue', 'Red'}\n"
          ]
        }
      ],
      "source": [
        "# A set contains unique elements;\n",
        "\n",
        "# Create a set by declaring it using curly brackets.\n",
        "\n",
        "# Ignores duplicate elements; uses just a single instance of each element\n",
        "set_2 = {'Blue', 'Yellow', 'Orange', 'Yellow', 'Red', 'White', 'Blue'}\n",
        "\n",
        "print(set_2)"
      ]
    },
    {
      "cell_type": "code",
      "execution_count": 25,
      "id": "d53aa841",
      "metadata": {
        "colab": {
          "base_uri": "https://localhost:8080/"
        },
        "id": "d53aa841",
        "outputId": "ea968287-8087-429b-fab4-74c8ca960508"
      },
      "outputs": [
        {
          "output_type": "stream",
          "name": "stdout",
          "text": [
            "{'Microsoft', 'IBM', 'Apple', 'Google'}\n"
          ]
        }
      ],
      "source": [
        "# Create a set from a list by casting using the set method set()\n",
        "list_6 = ['Google', 'Microsoft', 'IBM', 'Apple', 'Microsoft', 'Microsoft', 'IBM', 'Apple']\n",
        "\n",
        "set_1 = set(list_6)\n",
        "\n",
        "print(set_1)"
      ]
    },
    {
      "cell_type": "code",
      "execution_count": 26,
      "id": "87449d00",
      "metadata": {
        "colab": {
          "base_uri": "https://localhost:8080/"
        },
        "id": "87449d00",
        "outputId": "f0b8a757-afce-4f01-a632-5b314879c81c"
      },
      "outputs": [
        {
          "output_type": "stream",
          "name": "stdout",
          "text": [
            "Added \"Black\": {'White', 'Yellow', 'Black', 'Orange', 'Blue', 'Red'}\n"
          ]
        }
      ],
      "source": [
        "# Add an element to a set using add() method\n",
        "\n",
        "set_2.add('Black')\n",
        "print(f\"Added \\\"Black\\\": {set_2}\")"
      ]
    },
    {
      "cell_type": "code",
      "execution_count": 27,
      "id": "650ebdb7",
      "metadata": {
        "colab": {
          "base_uri": "https://localhost:8080/",
          "height": 201
        },
        "id": "650ebdb7",
        "outputId": "c9d3c2b0-fd40-403d-b648-9f5671de7822"
      },
      "outputs": [
        {
          "output_type": "error",
          "ename": "TypeError",
          "evalue": "ignored",
          "traceback": [
            "\u001b[0;31m---------------------------------------------------------------------------\u001b[0m",
            "\u001b[0;31mTypeError\u001b[0m                                 Traceback (most recent call last)",
            "\u001b[0;32m<ipython-input-27-de0c0d11e148>\u001b[0m in \u001b[0;36m<cell line: 4>\u001b[0;34m()\u001b[0m\n\u001b[1;32m      2\u001b[0m \u001b[0;34m\u001b[0m\u001b[0m\n\u001b[1;32m      3\u001b[0m \u001b[0;31m# More details in the 'looping' section on how to access set elements by index\u001b[0m\u001b[0;34m\u001b[0m\u001b[0;34m\u001b[0m\u001b[0m\n\u001b[0;32m----> 4\u001b[0;31m \u001b[0mprint\u001b[0m\u001b[0;34m(\u001b[0m\u001b[0mset_2\u001b[0m\u001b[0;34m[\u001b[0m\u001b[0;36m1\u001b[0m\u001b[0;34m]\u001b[0m\u001b[0;34m)\u001b[0m\u001b[0;34m\u001b[0m\u001b[0;34m\u001b[0m\u001b[0m\n\u001b[0m",
            "\u001b[0;31mTypeError\u001b[0m: 'set' object is not subscriptable"
          ]
        }
      ],
      "source": [
        "# We cannot directly index a set to obtain an item\n",
        "\n",
        "# More details in the 'looping' section on how to access set elements by index\n",
        "print(set_2[1])"
      ]
    },
    {
      "cell_type": "markdown",
      "id": "cca05731",
      "metadata": {
        "id": "cca05731"
      },
      "source": [
        "<b>Please checkout other methods you can use with set using the link:</b>\n",
        "<a href=\"https://www.w3schools.com/python/python_ref_set.asp\">  Set Methods </a>"
      ]
    },
    {
      "cell_type": "markdown",
      "id": "1f156b67",
      "metadata": {
        "id": "1f156b67"
      },
      "source": [
        "##### Dictionary"
      ]
    },
    {
      "cell_type": "code",
      "execution_count": 28,
      "id": "717b43b6",
      "metadata": {
        "colab": {
          "base_uri": "https://localhost:8080/"
        },
        "id": "717b43b6",
        "outputId": "251ee5a4-3e66-43a9-8edc-936e956d3778"
      },
      "outputs": [
        {
          "output_type": "execute_result",
          "data": {
            "text/plain": [
              "{'Name': 'Alice',\n",
              " 'Age': 16,\n",
              " 'Hobbies': ['Dancing', 'Singing'],\n",
              " 'UUID': '045',\n",
              " 3: 'Accountant'}"
            ]
          },
          "metadata": {},
          "execution_count": 28
        }
      ],
      "source": [
        "# A dictionary consists of key-value pairs similar to a JSON data type; the keys must be unique\n",
        "dict_1 = {'Name':'Alice', 'Age':16, 'Hobbies':['Dancing', 'Singing'], 'UUID':'045', 3:'Accountant'}\n",
        "dict_1"
      ]
    },
    {
      "cell_type": "code",
      "execution_count": 29,
      "id": "372cb74e",
      "metadata": {
        "colab": {
          "base_uri": "https://localhost:8080/"
        },
        "id": "372cb74e",
        "outputId": "71552dcd-a534-4613-afc3-744e0ae34f1c"
      },
      "outputs": [
        {
          "output_type": "stream",
          "name": "stdout",
          "text": [
            "Alice\n",
            "Accountant\n"
          ]
        }
      ],
      "source": [
        "# We access each key-value pair using the 'key' in the dictionary\n",
        "print(dict_1['Name'])\n",
        "print(dict_1[3])"
      ]
    },
    {
      "cell_type": "code",
      "execution_count": 30,
      "id": "a1224e48",
      "metadata": {
        "colab": {
          "base_uri": "https://localhost:8080/"
        },
        "id": "a1224e48",
        "outputId": "f1692fec-6950-465e-aa95-7ca1d4946e01"
      },
      "outputs": [
        {
          "output_type": "execute_result",
          "data": {
            "text/plain": [
              "{'Name': 'Susan',\n",
              " 'Age': 16,\n",
              " 'Hobbies': ['Dancing', 'Singing'],\n",
              " 'UUID': '045',\n",
              " 3: 'Accountant',\n",
              " 'Married': 'Yes'}"
            ]
          },
          "metadata": {},
          "execution_count": 30
        }
      ],
      "source": [
        "# We can update the dictionary by specifying the key and assigning a value to it\n",
        "dict_1['Married'] = 'Yes'\n",
        "dict_1['Name'] = 'Susan'\n",
        "dict_1"
      ]
    },
    {
      "cell_type": "code",
      "execution_count": 40,
      "id": "6f611e5d",
      "metadata": {
        "colab": {
          "base_uri": "https://localhost:8080/"
        },
        "id": "6f611e5d",
        "outputId": "35f15c89-0471-4d5a-d29a-450d877448fa"
      },
      "outputs": [
        {
          "output_type": "stream",
          "name": "stdout",
          "text": [
            "all_keys: ['Name', 'Age', 'Hobbies', 'UUID', 3, 'Married'] \n",
            "\n",
            "dict_values(['Susan', 16, ['Dancing', 'Singing'], '045', 'Accountant', 'Yes']) \n",
            "\n",
            "[('Name', 'Susan'), ('Age', 16), ('Hobbies', ['Dancing', 'Singing']), ('UUID', '045'), (3, 'Accountant'), ('Married', 'Yes')] \n",
            "\n",
            "key: Name, value: Susan, value type:<class 'str'>\n",
            "key: Age, value: 16, value type:<class 'int'>\n",
            "key: Hobbies, value: ['Dancing', 'Singing'], value type:<class 'list'>\n",
            "key: UUID, value: 045, value type:<class 'str'>\n",
            "key: 3, value: Accountant, value type:<class 'str'>\n",
            "key: Married, value: Yes, value type:<class 'str'>\n"
          ]
        }
      ],
      "source": [
        "# Obtain all keys in a dictionary\n",
        "all_keys = list(dict_1.keys())\n",
        "print('all_keys:',all_keys,'\\n')\n",
        "\n",
        "# Obtain all the values in a dictionary\n",
        "all_values = dict_1.values()\n",
        "print(all_values, '\\n')\n",
        "\n",
        "# obtain all key-value pairs as a list of tuples\n",
        "key_value = list(dict_1.items())\n",
        "print(key_value,'\\n')\n",
        "for key in dict_1.keys():\n",
        "    print('key: ',key, ', value: ',dict_1[key],', value type:',type(dict_1[key]),sep='')"
      ]
    },
    {
      "cell_type": "markdown",
      "id": "8a886ea2",
      "metadata": {
        "id": "8a886ea2"
      },
      "source": [
        "<b>Please checkout other methods you can use with Dictionaries using the link:</b>\n",
        "<a href=\"https://www.w3schools.com/python/python_ref_dictionary.asp\">  Dictionary Methods </a>"
      ]
    },
    {
      "cell_type": "markdown",
      "id": "60242c0c",
      "metadata": {
        "id": "60242c0c"
      },
      "source": [
        "#### Python Built-in Functions"
      ]
    },
    {
      "cell_type": "code",
      "execution_count": 41,
      "id": "f19a9755",
      "metadata": {
        "colab": {
          "base_uri": "https://localhost:8080/"
        },
        "id": "f19a9755",
        "outputId": "faff0f89-b507-430f-96f8-4f1688d99bb0"
      },
      "outputs": [
        {
          "output_type": "stream",
          "name": "stdout",
          "text": [
            "list_1: [34, 45, 56, 89, 12.5, 20, 3.4]\n",
            "\n",
            "Maximum number: 89\n",
            "Minimum number: 3.4\n"
          ]
        }
      ],
      "source": [
        "# We have used some of these functions previously such as the print(), len(), Zip()\n",
        "\n",
        "# Use the max() and min() to get the maximum and minimum number in an iterable\n",
        "print(f\"list_1: {list_1}\")\n",
        "print()\n",
        "\n",
        "print(f\"Maximum number: {max(list_1)}\")\n",
        "print(f\"Minimum number: {min(list_1)}\")"
      ]
    },
    {
      "cell_type": "code",
      "execution_count": 42,
      "id": "268ebfeb",
      "metadata": {
        "colab": {
          "base_uri": "https://localhost:8080/"
        },
        "id": "268ebfeb",
        "outputId": "e81979a8-a39c-4b48-d786-af6ee357acaa"
      },
      "outputs": [
        {
          "output_type": "stream",
          "name": "stdout",
          "text": [
            "Data type of list_1: <class 'list'>\n",
            "Data type of tup_1: <class 'tuple'>\n",
            "Data type of dict_1: <class 'dict'>\n",
            "Data type of 1: <class 'int'>\n",
            "Data type of str_1: <class 'str'>\n"
          ]
        }
      ],
      "source": [
        "# We can get what data type a variable is by using the Type() function\n",
        "print(f\"Data type of list_1: {type(list_1)}\")\n",
        "print(f\"Data type of tup_1: {type(tup_1)}\")\n",
        "print(f\"Data type of dict_1: {type(dict_1)}\")\n",
        "print(f\"Data type of 1: {type(1)}\")\n",
        "print(f\"Data type of str_1: {type(str_1)}\")"
      ]
    },
    {
      "cell_type": "code",
      "execution_count": 46,
      "id": "07cf6d56",
      "metadata": {
        "colab": {
          "base_uri": "https://localhost:8080/"
        },
        "id": "07cf6d56",
        "outputId": "0fec8957-7228-4135-d1fd-6a7a44089a14"
      },
      "outputs": [
        {
          "output_type": "stream",
          "name": "stdout",
          "text": [
            "range_1: [1, 2, 3, 4, 5, 6, 7, 8, 9, 10, 11, 12, 13, 14, 15, 16, 17, 18, 19]\n",
            "range_2: [1, 3, 5, 7, 9, 11, 13, 15, 17, 19, 21, 23, 25, 27, 29, 31, 33, 35, 37, 39]\n",
            "[1, 3, 5, 7, 9, 11, 13, 15, 17, 19, 21, 23, 25, 27, 29, 31, 33, 35, 37, 39]\n"
          ]
        }
      ],
      "source": [
        "# Create a list of range of numbers using the range function\n",
        "range_1 = range(1, 20)\n",
        "\n",
        "range_2 = range(1, 40, 2)\n",
        "\n",
        "print(f\"range_1: {list(range_1)}\")\n",
        "print(f\"range_2: {list(range_2)}\")\n",
        "print(list(range_2))"
      ]
    },
    {
      "cell_type": "markdown",
      "id": "5c4a50b6",
      "metadata": {
        "id": "5c4a50b6"
      },
      "source": [
        "<b>Please checkout other Python Built-in functions using the link:</b>\n",
        "<a href=\"https://www.w3schools.com/python/python_ref_functions.asp\">  Built-in Functions </a>"
      ]
    },
    {
      "cell_type": "markdown",
      "id": "ec241fd4",
      "metadata": {
        "id": "ec241fd4"
      },
      "source": [
        "#### Logical statements (if...else)"
      ]
    },
    {
      "cell_type": "code",
      "execution_count": 48,
      "id": "6ed83825",
      "metadata": {
        "colab": {
          "base_uri": "https://localhost:8080/"
        },
        "id": "6ed83825",
        "outputId": "9cec9967-18c7-4ac9-dcb5-b83f0686744f"
      },
      "outputs": [
        {
          "output_type": "stream",
          "name": "stdout",
          "text": [
            "45.6 is greater than 23.45\n",
            "True\n"
          ]
        }
      ],
      "source": [
        "# Python supports logical conditions\n",
        "# '==' means equal\n",
        "# '!=' means not equal\n",
        "#  '<' means less than\n",
        "#  '<=' means less than or equal to\n",
        "#  '>=' means greater than or equal to\n",
        "\n",
        "# Declare some variables\n",
        "var_a = 45.6\n",
        "var_b = 23.45\n",
        "var_c = 45.0\n",
        "var_d = 45.0\n",
        "\n",
        "# We use the 'if' keyword in python for conditioning; logical statements always returns True or False\n",
        "if var_a < var_b:\n",
        "    print(f\"{var_a} is less than {var_b}\")\n",
        "\n",
        "elif var_a == var_b:\n",
        "    print(f\"{var_a} is equal to {var_b}\")\n",
        "    \n",
        "elif var_a > var_b:\n",
        "    print(f\"{var_a} is greater than {var_b}\")\n",
        "     \n",
        "elif var_a >= var_b:\n",
        "    print(f\"{var_a} is greater than or equal to {var_b}\")\n",
        "\n",
        "else:\n",
        "    print(\"I do not get it\")\n",
        "print(45 == 45.0)\n",
        "# if var_a >= var_b:\n",
        "#     print(f\"{var_a} is greater than or equal to {var_b}\")"
      ]
    },
    {
      "cell_type": "code",
      "execution_count": 49,
      "id": "8fbcc755",
      "metadata": {
        "colab": {
          "base_uri": "https://localhost:8080/"
        },
        "id": "8fbcc755",
        "outputId": "959b7284-32fc-4ab8-8dc3-b42c9ccfc047"
      },
      "outputs": [
        {
          "output_type": "stream",
          "name": "stdout",
          "text": [
            "45.6 is greater than 23.45\n",
            "45.0 is equal to 45.0\n"
          ]
        }
      ],
      "source": [
        "# We use the logical operators 'and', 'or', 'not' to join series of conditional statements\n",
        "if var_a < var_b and var_c == var_d:\n",
        "    print(f\"{var_a} is less than {var_b}\")\n",
        "    print(f\"{var_c} is equal to {var_d}\")\n",
        "\n",
        "elif var_a > var_b and var_c == var_d:\n",
        "    print(f\"{var_a} is greater than {var_b}\")\n",
        "    print(f\"{var_c} is equal to {var_d}\")\n",
        "    "
      ]
    },
    {
      "cell_type": "code",
      "execution_count": 50,
      "id": "db203dad",
      "metadata": {
        "colab": {
          "base_uri": "https://localhost:8080/"
        },
        "id": "db203dad",
        "outputId": "51f0664e-0efc-44ac-969b-fc3b57277897"
      },
      "outputs": [
        {
          "output_type": "stream",
          "name": "stdout",
          "text": [
            "one of the statements is True\n"
          ]
        }
      ],
      "source": [
        "# We use the logical operators 'and', 'or', 'not' to join series of conditional statements\n",
        "if var_a < var_b or var_c == var_d:\n",
        "    print(\"one of the statements is True\")\n",
        "\n",
        "elif var_a > var_b or var_c == var_d:\n",
        "    print(f\"{var_a} is greater than {var_b}\")\n",
        "    print(f\"{var_c} is equal to {var_d}\")"
      ]
    },
    {
      "cell_type": "code",
      "execution_count": 52,
      "id": "6e0f0a1c",
      "metadata": {
        "colab": {
          "base_uri": "https://localhost:8080/"
        },
        "id": "6e0f0a1c",
        "outputId": "c51aaf9c-1cdd-4a77-97ee-7453fb43d5b8"
      },
      "outputs": [
        {
          "output_type": "stream",
          "name": "stdout",
          "text": [
            "EUR is in ['EUR', 'USD', 'GBP', 'AUD', 'CAD', 'JPY']\n",
            "USD is in ['EUR', 'USD', 'GBP', 'AUD', 'CAD', 'JPY']\n"
          ]
        }
      ],
      "source": [
        "# We can further perform logical operations with an iterable\n",
        "list_0 = ['EUR', 'USD', 'GBP', 'AUD', 'CAD', 'JPY']\n",
        "\n",
        "if 'EUR' in list_0:\n",
        "    print(f\"EUR is in {list_0}\")\n",
        "\n",
        "if 'USD' not in list_0:\n",
        "    print(f\"USD not in {list_0}\")\n",
        "\n",
        "else:\n",
        "    print(f\"USD is in {list_0}\")"
      ]
    },
    {
      "cell_type": "code",
      "execution_count": 53,
      "id": "1e4622b2",
      "metadata": {
        "colab": {
          "base_uri": "https://localhost:8080/"
        },
        "id": "1e4622b2",
        "outputId": "77147436-061d-422a-b09d-17d3fd9af282"
      },
      "outputs": [
        {
          "output_type": "stream",
          "name": "stdout",
          "text": [
            "True but 45.6 is not less than 23.45\n"
          ]
        }
      ],
      "source": [
        "# Nested if..else statements\n",
        "if 'EUR' in list_0:\n",
        "    if var_a < var_b:\n",
        "        print(f\"{var_a} is less than {var_b}\")\n",
        "    else:\n",
        "        print(f\"True but {var_a} is not less than {var_b}\")\n",
        "\n",
        "elif 'USD' in list_0:\n",
        "    if var_a > var_b:\n",
        "        print(f\"{var_a} is greater than {var_b}\")\n",
        "    else:\n",
        "        print(f\"True and {var_a} is greater than {var_b}\")"
      ]
    },
    {
      "cell_type": "markdown",
      "id": "2a9aad6e",
      "metadata": {
        "id": "2a9aad6e"
      },
      "source": [
        "#### Looping"
      ]
    },
    {
      "cell_type": "code",
      "execution_count": 54,
      "id": "3ff5e021",
      "metadata": {
        "colab": {
          "base_uri": "https://localhost:8080/"
        },
        "id": "3ff5e021",
        "outputId": "8fd4d8c0-d8f1-4165-a50b-75b5974baa66"
      },
      "outputs": [
        {
          "output_type": "stream",
          "name": "stdout",
          "text": [
            "[0]\n",
            "[0, 1]\n",
            "[0, 1, 2]\n",
            "[0, 1, 2, 3]\n",
            "[0, 1, 2, 3, 4]\n",
            "[0, 1, 2, 3, 4, 5]\n",
            "[0, 1, 2, 3, 4, 5, 6]\n",
            "[0, 1, 2, 3, 4, 5, 6, 7]\n",
            "[0, 1, 2, 3, 4, 5, 6, 7, 8]\n",
            "[0, 1, 2, 3, 4, 5, 6, 7, 8, 9]\n"
          ]
        }
      ],
      "source": [
        "# Using For Loop to iterate over a number of times\n",
        "list_for = []\n",
        "for i in range(0, 10):\n",
        "    list_for.append(i)\n",
        "    print(list_for)\n"
      ]
    },
    {
      "cell_type": "code",
      "execution_count": 55,
      "id": "be171ec6",
      "metadata": {
        "colab": {
          "base_uri": "https://localhost:8080/"
        },
        "id": "be171ec6",
        "outputId": "dd97bf37-0462-40da-ce39-0fc7c79cf182"
      },
      "outputs": [
        {
          "output_type": "stream",
          "name": "stdout",
          "text": [
            "EUR\n",
            "USD\n",
            "GBP\n",
            "AUD\n",
            "CAD\n",
            "JPY\n"
          ]
        }
      ],
      "source": [
        "# Looping through an iterable\n",
        "for item in list_0:\n",
        "    print(item)"
      ]
    },
    {
      "cell_type": "code",
      "execution_count": 56,
      "id": "bcfadec9",
      "metadata": {
        "colab": {
          "base_uri": "https://localhost:8080/"
        },
        "id": "bcfadec9",
        "outputId": "1360bfe6-f1a9-4535-e500-2c377783a962"
      },
      "outputs": [
        {
          "output_type": "stream",
          "name": "stdout",
          "text": [
            "EUR\n",
            "USD\n",
            "GBP\n",
            "AUD\n",
            "CAD\n",
            "JPY\n"
          ]
        }
      ],
      "source": [
        "# Looping through an iterable using the index\n",
        "for index in range(len(list_0)):\n",
        "    print(list_0[index])"
      ]
    },
    {
      "cell_type": "code",
      "execution_count": 57,
      "id": "02554ca7",
      "metadata": {
        "colab": {
          "base_uri": "https://localhost:8080/"
        },
        "id": "02554ca7",
        "outputId": "8722c0b8-3422-45d0-9899-6aed9546102a"
      },
      "outputs": [
        {
          "output_type": "stream",
          "name": "stdout",
          "text": [
            "EUR\n",
            "USD\n",
            "GBP\n",
            "AUD\n",
            "CAD\n",
            "JPY\n"
          ]
        }
      ],
      "source": [
        "# A while loop can be used to achieve anything a For loop can do\n",
        "index = 0\n",
        "while index < len(list_0):\n",
        "    print(list_0[index])\n",
        "    index += 1"
      ]
    },
    {
      "cell_type": "code",
      "execution_count": 58,
      "id": "c628a425",
      "metadata": {
        "colab": {
          "base_uri": "https://localhost:8080/"
        },
        "id": "c628a425",
        "outputId": "c275e402-468b-45f5-a8c2-af7440aa1944"
      },
      "outputs": [
        {
          "output_type": "stream",
          "name": "stdout",
          "text": [
            "{'Name': 'Susan', 'Age': 16, 'Hobbies': ['Dancing', 'Singing'], 'UUID': '045', 3: 'Accountant', 'Married': 'Yes'}\n",
            "\n",
            "Name Susan\n",
            "Age 16\n",
            "Hobbies ['Dancing', 'Singing']\n",
            "UUID 045\n",
            "3 Accountant\n",
            "Married Yes\n"
          ]
        }
      ],
      "source": [
        "print(dict_1)\n",
        "print()\n",
        "\n",
        "# Looping through the items in a dictionary\n",
        "for key, value in dict_1.items():\n",
        "    print(key, value)"
      ]
    },
    {
      "cell_type": "code",
      "execution_count": 59,
      "id": "f8af8202",
      "metadata": {
        "colab": {
          "base_uri": "https://localhost:8080/"
        },
        "id": "f8af8202",
        "outputId": "947be688-7cfe-4836-d0d7-476d85d16a46"
      },
      "outputs": [
        {
          "output_type": "stream",
          "name": "stdout",
          "text": [
            "{'White', 'Yellow', 'Black', 'Orange', 'Blue', 'Red'}\n",
            "\n",
            "0-White\n",
            "EUR\n",
            "\n",
            "1-Yellow\n",
            "USD\n",
            "\n",
            "2-Black\n",
            "GBP\n",
            "\n",
            "3-Orange\n",
            "AUD\n",
            "\n",
            "4-Blue\n",
            "CAD\n",
            "\n",
            "5-Red\n",
            "JPY\n",
            "\n"
          ]
        }
      ],
      "source": [
        "print(set_2)\n",
        "print()\n",
        "\n",
        "# Looping through a set using enumerate()\n",
        "for index, item in enumerate(set_2):\n",
        "    print(index,'-', item,sep='')\n",
        "    print(list_0[index])\n",
        "    print()"
      ]
    },
    {
      "cell_type": "markdown",
      "id": "2e93ca20",
      "metadata": {
        "id": "2e93ca20"
      },
      "source": [
        "#### File Methods\n",
        "\n",
        "We use the open() function to open a file, for reading or writing; Open() function takes two major arguments \"filename\" and the \"mode\"\n",
        "\n",
        "<b>Modes</b><br>\n",
        "\n",
        "\"r\" - Read - Default value. Opens a file for reading, error if the file does not exist\n",
        "\n",
        "\"a\" - Append - Opens a file for appending, creates the file if it does not exist\n",
        "\n",
        "\"w\" - Write - Opens a file for writing, creates the file if it does not exist\n",
        "\n",
        "\"x\" - Create - Creates the specified file, returns an error if the file exists"
      ]
    },
    {
      "cell_type": "code",
      "execution_count": 71,
      "id": "2a910fe4",
      "metadata": {
        "colab": {
          "base_uri": "https://localhost:8080/"
        },
        "id": "2a910fe4",
        "outputId": "59c2b9a0-bd0a-45cc-9e8a-94222c939510"
      },
      "outputs": [
        {
          "output_type": "stream",
          "name": "stdout",
          "text": [
            "['Age,Sex,Job,Housing,Saving accounts,Checking account,Credit amount,Duration,Purpose,Risk\\n', '55,male,2,free,little,NA,1597,24,education,good\\n', '48,female,1,rent,little,moderate,1795,18,radio/TV,good\\n', '24,female,2,own,little,little,4272,20,furniture/equipment,good\\n', '35,male,2,own,NA,NA,976,12,radio/TV,good\\n', '24,female,0,rent,NA,moderate,7472,12,car,good\\n', '24,male,2,own,little,little,9271,36,car,bad\\n', '26,male,1,own,little,moderate,590,6,radio/TV,good\\n', '65,male,2,own,NA,NA,930,12,radio/TV,good\\n', '55,male,3,free,little,moderate,9283,42,car,good\\n']\n",
            "Age Sex Job Housing Saving accounts Checking account Credit amount Duration Purpose Risk\n",
            "\n",
            "55 male 2 free little NA 1597 24 education good\n",
            "\n",
            "48 female 1 rent little moderate 1795 18 radio/TV good\n",
            "\n",
            "24 female 2 own little little 4272 20 furniture/equipment good\n",
            "\n",
            "35 male 2 own NA NA 976 12 radio/TV good\n",
            "\n",
            "24 female 0 rent NA moderate 7472 12 car good\n",
            "\n",
            "24 male 2 own little little 9271 36 car bad\n",
            "\n",
            "26 male 1 own little moderate 590 6 radio/TV good\n",
            "\n",
            "65 male 2 own NA NA 930 12 radio/TV good\n",
            "\n",
            "55 male 3 free little moderate 9283 42 car good\n",
            "\n",
            "['Age,Sex,Job,Housing,Saving accounts,Checking account,Credit amount,Duration,Purpose,Risk\\n', '55,male,2,free,little,NA,1597,24,education,good\\n', '48,female,1,rent,little,moderate,1795,18,radio/TV,good\\n', '24,female,2,own,little,little,4272,20,furniture/equipment,good\\n', '35,male,2,own,NA,NA,976,12,radio/TV,good\\n', '24,female,0,rent,NA,moderate,7472,12,car,good\\n', '24,male,2,own,little,little,9271,36,car,bad\\n', '26,male,1,own,little,moderate,590,6,radio/TV,good\\n', '65,male,2,own,NA,NA,930,12,radio/TV,good\\n', '55,male,3,free,little,moderate,9283,42,car,good\\n']\n"
          ]
        }
      ],
      "source": [
        "# Open file in reading mode\n",
        "file_reader = open('Test_data.csv', mode='r', encoding='UTF-8')\n",
        "\n",
        "# Read all the lines in the file\n",
        "file_lines = file_reader.readlines()\n",
        "\n",
        "# Close file after reading\n",
        "file_reader.close()\n",
        "\n",
        "print(file_lines)\n",
        "for line in file_lines:\n",
        "    print(' '.join(line.split(',')))\n",
        "print(file_lines)"
      ]
    },
    {
      "cell_type": "code",
      "execution_count": 72,
      "id": "682c1a82",
      "metadata": {
        "colab": {
          "base_uri": "https://localhost:8080/"
        },
        "id": "682c1a82",
        "outputId": "303aae1d-dbae-4b57-e247-4b70907260d5"
      },
      "outputs": [
        {
          "output_type": "stream",
          "name": "stdout",
          "text": [
            "['Age', 'Sex', 'Job', 'Housing', 'Saving accounts', 'Checking account', 'Credit amount', 'Duration', 'Purpose', 'Risk']\n",
            "['55', 'male', '2', 'free', 'little', 'NA', '1597', '24', 'education', 'good']\n",
            "['48', 'female', '1', 'rent', 'little', 'moderate', '1795', '18', 'radio/TV', 'good']\n",
            "['24', 'female', '2', 'own', 'little', 'little', '4272', '20', 'furniture/equipment', 'good']\n",
            "['35', 'male', '2', 'own', 'NA', 'NA', '976', '12', 'radio/TV', 'good']\n",
            "['24', 'female', '0', 'rent', 'NA', 'moderate', '7472', '12', 'car', 'good']\n",
            "['24', 'male', '2', 'own', 'little', 'little', '9271', '36', 'car', 'bad']\n",
            "['26', 'male', '1', 'own', 'little', 'moderate', '590', '6', 'radio/TV', 'good']\n",
            "['65', 'male', '2', 'own', 'NA', 'NA', '930', '12', 'radio/TV', 'good']\n",
            "['55', 'male', '3', 'free', 'little', 'moderate', '9283', '42', 'car', 'good']\n"
          ]
        },
        {
          "output_type": "execute_result",
          "data": {
            "text/plain": [
              "[{'Age': '48',\n",
              "  'Sex': 'female',\n",
              "  'Job': '1',\n",
              "  'Housing': 'rent',\n",
              "  'Saving accounts': 'little',\n",
              "  'Checking account': 'moderate',\n",
              "  'Credit amount': '1795',\n",
              "  'Duration': '18',\n",
              "  'Purpose': 'radio/TV',\n",
              "  'Risk': 'good'},\n",
              " {'Age': '24',\n",
              "  'Sex': 'female',\n",
              "  'Job': '2',\n",
              "  'Housing': 'own',\n",
              "  'Saving accounts': 'little',\n",
              "  'Checking account': 'little',\n",
              "  'Credit amount': '4272',\n",
              "  'Duration': '20',\n",
              "  'Purpose': 'furniture/equipment',\n",
              "  'Risk': 'good'}]"
            ]
          },
          "metadata": {},
          "execution_count": 72
        }
      ],
      "source": [
        "# Create a list to store my dictionaries\n",
        "list_dict = []\n",
        "\n",
        "# Reading a file line by line using 'with' keyword; closes file after reading/writing\n",
        "with open('Test_data.csv', 'r') as file_reader:\n",
        "\n",
        "    # reads the firstline which contains the field_names/columns\n",
        "    dict_keys = file_reader.readline().rstrip('\\n').split(',')\n",
        "    print(dict_keys)\n",
        "    print(file_reader.readline().rstrip('\\n').split(','))\n",
        "    # Read each subsequent line strip out the newline character\n",
        "    for line in file_reader.readlines():\n",
        "        diction = {}\n",
        "        line_list = line.rstrip('\\n').split(',')\n",
        "        print(line_list)\n",
        "        # Create a dictionary for each line\n",
        "        for index in range(len(dict_keys)):\n",
        "            diction[dict_keys[index]] = line_list[index]\n",
        "            # print(diction[dict_keys[index]])\n",
        "        \n",
        "        # Append this dictionary to a list\n",
        "        list_dict.append(diction)   \n",
        "\n",
        "list_dict[0:2]"
      ]
    },
    {
      "cell_type": "code",
      "source": [
        "print(line_list)\n",
        "print(list_dict)"
      ],
      "metadata": {
        "colab": {
          "base_uri": "https://localhost:8080/"
        },
        "id": "R8LAxX5K1UNB",
        "outputId": "120d5857-7cbf-4c75-c85b-02bfebee5951"
      },
      "id": "R8LAxX5K1UNB",
      "execution_count": 67,
      "outputs": [
        {
          "output_type": "stream",
          "name": "stdout",
          "text": [
            "['55', 'male', '3', 'free', 'little', 'moderate', '9283', '42', 'car', 'good']\n",
            "[{'Age': '55', 'Sex': 'male', 'Job': '2', 'Housing': 'free', 'Saving accounts': 'little', 'Checking account': 'NA', 'Credit amount': '1597', 'Duration': '24', 'Purpose': 'education', 'Risk': 'good'}, {'Age': '48', 'Sex': 'female', 'Job': '1', 'Housing': 'rent', 'Saving accounts': 'little', 'Checking account': 'moderate', 'Credit amount': '1795', 'Duration': '18', 'Purpose': 'radio/TV', 'Risk': 'good'}, {'Age': '24', 'Sex': 'female', 'Job': '2', 'Housing': 'own', 'Saving accounts': 'little', 'Checking account': 'little', 'Credit amount': '4272', 'Duration': '20', 'Purpose': 'furniture/equipment', 'Risk': 'good'}, {'Age': '35', 'Sex': 'male', 'Job': '2', 'Housing': 'own', 'Saving accounts': 'NA', 'Checking account': 'NA', 'Credit amount': '976', 'Duration': '12', 'Purpose': 'radio/TV', 'Risk': 'good'}, {'Age': '24', 'Sex': 'female', 'Job': '0', 'Housing': 'rent', 'Saving accounts': 'NA', 'Checking account': 'moderate', 'Credit amount': '7472', 'Duration': '12', 'Purpose': 'car', 'Risk': 'good'}, {'Age': '24', 'Sex': 'male', 'Job': '2', 'Housing': 'own', 'Saving accounts': 'little', 'Checking account': 'little', 'Credit amount': '9271', 'Duration': '36', 'Purpose': 'car', 'Risk': 'bad'}, {'Age': '26', 'Sex': 'male', 'Job': '1', 'Housing': 'own', 'Saving accounts': 'little', 'Checking account': 'moderate', 'Credit amount': '590', 'Duration': '6', 'Purpose': 'radio/TV', 'Risk': 'good'}, {'Age': '65', 'Sex': 'male', 'Job': '2', 'Housing': 'own', 'Saving accounts': 'NA', 'Checking account': 'NA', 'Credit amount': '930', 'Duration': '12', 'Purpose': 'radio/TV', 'Risk': 'good'}, {'Age': '55', 'Sex': 'male', 'Job': '3', 'Housing': 'free', 'Saving accounts': 'little', 'Checking account': 'moderate', 'Credit amount': '9283', 'Duration': '42', 'Purpose': 'car', 'Risk': 'good'}]\n"
          ]
        }
      ]
    },
    {
      "cell_type": "code",
      "execution_count": 73,
      "id": "a4149ce9",
      "metadata": {
        "colab": {
          "base_uri": "https://localhost:8080/"
        },
        "id": "a4149ce9",
        "outputId": "15d23408-4782-401c-a63c-53ae1162a2ef"
      },
      "outputs": [
        {
          "output_type": "stream",
          "name": "stdout",
          "text": [
            "['Age', 'Sex', 'Job', 'Housing', 'Saving accounts', 'Checking account', 'Credit amount', 'Duration', 'Purpose', 'Risk']\n"
          ]
        }
      ],
      "source": [
        "print(dict_keys)\n",
        "\n",
        "# Writing to a file\n",
        "\n",
        "# Open the file using the 'with' and 'open' keyword\n",
        "with open('Writing_test_data.csv', 'w') as file_writer:\n",
        "    \n",
        "    # join the keys together using a ',' to form a string and add a new line character at the end\n",
        "    fields = ','.join(dict_keys) + '\\n'\n",
        "    \n",
        "    # Write this to the first line in the CSV file\n",
        "    file_writer.write(fields)\n",
        "    \n",
        "    # loop through the dictionaries in the list\n",
        "    for diction in list_dict:\n",
        "        \n",
        "        # For each dictionary join the values and add a newline\n",
        "        field_values = ','.join(list(diction.values())) + '\\n'\n",
        "        \n",
        "        # Write these values to the file\n",
        "        file_writer.write(field_values)"
      ]
    },
    {
      "cell_type": "markdown",
      "id": "97a509b8",
      "metadata": {
        "id": "97a509b8"
      },
      "source": [
        "#### User-Defined Functions\n",
        "\n",
        "Functions we define ourselves to perform specific task is called User-Defined Function. \n",
        "User-defined functions help to decompose a large program into small segments which makes the program easy to understand, maintain and debug."
      ]
    },
    {
      "cell_type": "code",
      "execution_count": 74,
      "id": "2d7f8e51",
      "metadata": {
        "colab": {
          "base_uri": "https://localhost:8080/"
        },
        "id": "2d7f8e51",
        "outputId": "c2b5565f-b6f1-4f94-a725-62fb5f706706"
      },
      "outputs": [
        {
          "output_type": "stream",
          "name": "stdout",
          "text": [
            "Dumb! 3 is always less than 5\n"
          ]
        }
      ],
      "source": [
        "# We define a function using the 'def' keyword followed by the function name, the arguments, and a return statement\n",
        "def print_something():\n",
        "    \n",
        "    if 3 < 5:\n",
        "        print(\"Dumb! 3 is always less than 5\")\n",
        "    else:\n",
        "        print(\"I can never reach here\")\n",
        "\n",
        "    return\n",
        "\n",
        "print_something()"
      ]
    },
    {
      "cell_type": "code",
      "execution_count": 75,
      "id": "443355d6",
      "metadata": {
        "colab": {
          "base_uri": "https://localhost:8080/"
        },
        "id": "443355d6",
        "outputId": "b7d0ee74-10f6-468a-82ee-48a00af686d4"
      },
      "outputs": [
        {
          "output_type": "stream",
          "name": "stdout",
          "text": [
            "The sum of numbers in the list is: 82\n"
          ]
        }
      ],
      "source": [
        "# We define another function with arguments\n",
        "def add_numbers(array):\n",
        "    \n",
        "    sum_list = 0\n",
        "    for num in array:\n",
        "        sum_list += num\n",
        "    \n",
        "    return sum_list\n",
        "\n",
        "list_sum = [2, 4, 7, 20, 23, 16, 10]\n",
        "print(f\"The sum of numbers in the list is: {add_numbers(list_sum)}\")"
      ]
    },
    {
      "cell_type": "code",
      "execution_count": 76,
      "id": "2f2d6a09",
      "metadata": {
        "colab": {
          "base_uri": "https://localhost:8080/"
        },
        "id": "2f2d6a09",
        "outputId": "ec395b73-a987-4b13-eab5-e7a8693d5c8c"
      },
      "outputs": [
        {
          "output_type": "stream",
          "name": "stdout",
          "text": [
            "The even numbers in the list are: [34, 22, 86, 100, 22, 24, 18]\n",
            "The sum of even numbers in the list is: 306\n"
          ]
        }
      ],
      "source": [
        "# We can return array from a function\n",
        "def find_even_sum(array):\n",
        "    even_numbers = []\n",
        "    \n",
        "    for num in array:\n",
        "        if num % 2 == 0:\n",
        "            even_numbers.append(num)\n",
        "            \n",
        "        else:\n",
        "            continue\n",
        "    \n",
        "    print(f\"The even numbers in the list are: {even_numbers}\")\n",
        "    \n",
        "    sum_even_numbers = add_numbers(even_numbers)\n",
        "    \n",
        "    return sum_even_numbers\n",
        "\n",
        "numbers = [1, 34, 22, 55, 67, 86, 100, 201, 33, 22, 24, 18, 21, 17, 15]\n",
        "evens = find_even_sum(numbers)\n",
        "\n",
        "print(f\"The sum of even numbers in the list is: {evens}\")"
      ]
    },
    {
      "cell_type": "code",
      "execution_count": 77,
      "id": "603dd978",
      "metadata": {
        "colab": {
          "base_uri": "https://localhost:8080/"
        },
        "id": "603dd978",
        "outputId": "f539df7e-e1ab-4205-ce89-63e1ec85975a"
      },
      "outputs": [
        {
          "output_type": "stream",
          "name": "stdout",
          "text": [
            "A number in the list [5, 43.3, 97, 22.1, 5, 89, 12] is greater than 90: True\n"
          ]
        }
      ],
      "source": [
        "def gt_than_num(array, number):\n",
        "    for num in array:\n",
        "        if num > number:\n",
        "            return True\n",
        "        else:\n",
        "            continue\n",
        "    \n",
        "    return False\n",
        "\n",
        "num_bers = [5, 43.3, 97, 22.1, 5, 89, 12]\n",
        "num = 90\n",
        "print(f\"A number in the list {num_bers} is greater than {num}: {gt_than_num(num_bers, num)}\")"
      ]
    },
    {
      "cell_type": "markdown",
      "id": "538a7ee6",
      "metadata": {
        "id": "538a7ee6"
      },
      "source": [
        "#### Recursion\n",
        "\n",
        "A recursive function is a function which calls itself. It can be helpful to avoid a lot of nested iterations and make code look clean"
      ]
    },
    {
      "cell_type": "code",
      "execution_count": 78,
      "id": "ef953d18",
      "metadata": {
        "colab": {
          "base_uri": "https://localhost:8080/"
        },
        "id": "ef953d18",
        "outputId": "5c5861a8-e161-4f20-ff86-b02255cc2487"
      },
      "outputs": [
        {
          "output_type": "execute_result",
          "data": {
            "text/plain": [
              "24"
            ]
          },
          "metadata": {},
          "execution_count": 78
        }
      ],
      "source": [
        "# We will look at a simple recursive function which calculates factorial of a number;\n",
        "# 1! = 1\n",
        "# 2! = 2 * 1!\n",
        "# 3! = 3 * 2!\n",
        "# 4! = 4 * 3!\n",
        "# 5! ......\n",
        "\n",
        "# Create a function that calls itself \n",
        "def calc_factorial(num):\n",
        "    \n",
        "    if num == 0 or num == 1:\n",
        "        return 1\n",
        "    else:\n",
        "        return (num * calc_factorial(num - 1))\n",
        "\n",
        "calc_factorial(4)"
      ]
    },
    {
      "cell_type": "markdown",
      "id": "2eda8e5b",
      "metadata": {
        "id": "2eda8e5b"
      },
      "source": [
        "#### Error & Exceptions\n",
        "\n",
        "Errors in Python can be of two types - \"Syntax Error\" and \"Exceptions\"\n",
        "\n",
        "<b>Syntax error</b> arises from wrong syntax in the code which leads to code failure. This is by far the most common error in programming and easiest to fix. \n",
        "\n",
        "<b>Exceptions:</b> These errors are raised when the code is syntactically correct but the execution of the code leads to an error. This error does not stop program execution but can change the program flow and produce unexpected results. "
      ]
    },
    {
      "cell_type": "code",
      "execution_count": 79,
      "id": "87e92e2d",
      "metadata": {
        "colab": {
          "base_uri": "https://localhost:8080/",
          "height": 132
        },
        "id": "87e92e2d",
        "outputId": "8291d408-b26f-448a-e83f-4f8c308b4461"
      },
      "outputs": [
        {
          "output_type": "error",
          "ename": "SyntaxError",
          "evalue": "ignored",
          "traceback": [
            "\u001b[0;36m  File \u001b[0;32m\"<ipython-input-79-9fb80848b1b7>\"\u001b[0;36m, line \u001b[0;32m1\u001b[0m\n\u001b[0;31m    print \"Hello world\"\u001b[0m\n\u001b[0m          ^\u001b[0m\n\u001b[0;31mSyntaxError\u001b[0m\u001b[0;31m:\u001b[0m Missing parentheses in call to 'print'. Did you mean print(\"Hello world\")?\n"
          ]
        }
      ],
      "source": [
        "print \"Hello world\""
      ]
    },
    {
      "cell_type": "code",
      "source": [
        "print(\"Hello world\")"
      ],
      "metadata": {
        "colab": {
          "base_uri": "https://localhost:8080/"
        },
        "id": "gdYTJWfl4pb1",
        "outputId": "05b5ec4d-ae25-42de-b41f-8e69821e6982"
      },
      "id": "gdYTJWfl4pb1",
      "execution_count": 83,
      "outputs": [
        {
          "output_type": "stream",
          "name": "stdout",
          "text": [
            "Hello world\n"
          ]
        }
      ]
    },
    {
      "cell_type": "code",
      "execution_count": 80,
      "id": "9bc30e93",
      "metadata": {
        "colab": {
          "base_uri": "https://localhost:8080/",
          "height": 132
        },
        "id": "9bc30e93",
        "outputId": "85c31108-d825-4d27-d199-bc57eee48dd5"
      },
      "outputs": [
        {
          "output_type": "error",
          "ename": "SyntaxError",
          "evalue": "ignored",
          "traceback": [
            "\u001b[0;36m  File \u001b[0;32m\"<ipython-input-80-9114ffa803d4>\"\u001b[0;36m, line \u001b[0;32m1\u001b[0m\n\u001b[0;31m    for i in range(20)\u001b[0m\n\u001b[0m                      ^\u001b[0m\n\u001b[0;31mSyntaxError\u001b[0m\u001b[0;31m:\u001b[0m invalid syntax\n"
          ]
        }
      ],
      "source": [
        "for i in range(20)\n",
        "    print(\"Hello\")"
      ]
    },
    {
      "cell_type": "code",
      "source": [
        "for i in range(0,10):\n",
        "    print(\"hello\")\n",
        "    "
      ],
      "metadata": {
        "colab": {
          "base_uri": "https://localhost:8080/"
        },
        "id": "NsLKmlc-4sbM",
        "outputId": "4d13c3ff-78a9-48fa-a616-9a3f36dbe606"
      },
      "id": "NsLKmlc-4sbM",
      "execution_count": 84,
      "outputs": [
        {
          "output_type": "stream",
          "name": "stdout",
          "text": [
            "hello\n",
            "hello\n",
            "hello\n",
            "hello\n",
            "hello\n",
            "hello\n",
            "hello\n",
            "hello\n",
            "hello\n",
            "hello\n"
          ]
        }
      ]
    },
    {
      "cell_type": "code",
      "execution_count": 81,
      "id": "6f52ee28",
      "metadata": {
        "colab": {
          "base_uri": "https://localhost:8080/",
          "height": 201
        },
        "id": "6f52ee28",
        "outputId": "d74db931-eb68-4c75-c402-4803162e5af8"
      },
      "outputs": [
        {
          "output_type": "error",
          "ename": "IndexError",
          "evalue": "ignored",
          "traceback": [
            "\u001b[0;31m---------------------------------------------------------------------------\u001b[0m",
            "\u001b[0;31mIndexError\u001b[0m                                Traceback (most recent call last)",
            "\u001b[0;32m<ipython-input-81-c2984cbd879d>\u001b[0m in \u001b[0;36m<cell line: 3>\u001b[0;34m()\u001b[0m\n\u001b[1;32m      1\u001b[0m \u001b[0mer_list\u001b[0m \u001b[0;34m=\u001b[0m \u001b[0;34m[\u001b[0m\u001b[0;34m'don'\u001b[0m\u001b[0;34m,\u001b[0m \u001b[0;34m'cat'\u001b[0m\u001b[0;34m,\u001b[0m \u001b[0;34m'fit'\u001b[0m\u001b[0;34m]\u001b[0m\u001b[0;34m\u001b[0m\u001b[0;34m\u001b[0m\u001b[0m\n\u001b[1;32m      2\u001b[0m \u001b[0;34m\u001b[0m\u001b[0m\n\u001b[0;32m----> 3\u001b[0;31m \u001b[0mprint\u001b[0m\u001b[0;34m(\u001b[0m\u001b[0mer_list\u001b[0m\u001b[0;34m[\u001b[0m\u001b[0;36m4\u001b[0m\u001b[0;34m]\u001b[0m\u001b[0;34m)\u001b[0m\u001b[0;34m\u001b[0m\u001b[0;34m\u001b[0m\u001b[0m\n\u001b[0m",
            "\u001b[0;31mIndexError\u001b[0m: list index out of range"
          ]
        }
      ],
      "source": [
        "er_list = ['don', 'cat', 'fit']\n",
        "\n",
        "print(er_list[4])"
      ]
    },
    {
      "cell_type": "code",
      "source": [
        "print(er_list[2])"
      ],
      "metadata": {
        "colab": {
          "base_uri": "https://localhost:8080/"
        },
        "id": "IAEPEDTT44dK",
        "outputId": "9d260c27-429a-48ac-8902-3d16e1db4a88"
      },
      "id": "IAEPEDTT44dK",
      "execution_count": 85,
      "outputs": [
        {
          "output_type": "stream",
          "name": "stdout",
          "text": [
            "fit\n"
          ]
        }
      ]
    },
    {
      "cell_type": "code",
      "execution_count": 86,
      "id": "e6288143",
      "metadata": {
        "colab": {
          "base_uri": "https://localhost:8080/",
          "height": 218
        },
        "id": "e6288143",
        "outputId": "1d006143-2092-442b-a2c3-1bbcee677fb8"
      },
      "outputs": [
        {
          "output_type": "stream",
          "name": "stdout",
          "text": [
            "{1: 'Beetle', 2: 'Octopus', 3: 'Frog', 4: 'Mice'}\n"
          ]
        },
        {
          "output_type": "error",
          "ename": "KeyError",
          "evalue": "ignored",
          "traceback": [
            "\u001b[0;31m---------------------------------------------------------------------------\u001b[0m",
            "\u001b[0;31mKeyError\u001b[0m                                  Traceback (most recent call last)",
            "\u001b[0;32m<ipython-input-86-66f9a329f926>\u001b[0m in \u001b[0;36m<cell line: 6>\u001b[0;34m()\u001b[0m\n\u001b[1;32m      4\u001b[0m \u001b[0mprint\u001b[0m\u001b[0;34m(\u001b[0m\u001b[0mdict_err\u001b[0m\u001b[0;34m)\u001b[0m\u001b[0;34m\u001b[0m\u001b[0;34m\u001b[0m\u001b[0m\n\u001b[1;32m      5\u001b[0m \u001b[0;34m\u001b[0m\u001b[0m\n\u001b[0;32m----> 6\u001b[0;31m \u001b[0mdict_err\u001b[0m\u001b[0;34m[\u001b[0m\u001b[0;36m5\u001b[0m\u001b[0;34m]\u001b[0m\u001b[0;34m\u001b[0m\u001b[0;34m\u001b[0m\u001b[0m\n\u001b[0m",
            "\u001b[0;31mKeyError\u001b[0m: 5"
          ]
        }
      ],
      "source": [
        "li_1 = ['Beetle', 'Octopus', 'Frog', 'Mice']\n",
        "li_2 = [1, 2, 3, 4]\n",
        "dict_err = dict(zip(li_2, li_1))\n",
        "print(dict_err)\n",
        "\n",
        "dict_err[5]"
      ]
    },
    {
      "cell_type": "code",
      "source": [
        "print(dict_err)"
      ],
      "metadata": {
        "colab": {
          "base_uri": "https://localhost:8080/"
        },
        "id": "N0nkrFIC5HyH",
        "outputId": "f7c76069-95c2-43bd-c0f5-16f2d8efca7a"
      },
      "id": "N0nkrFIC5HyH",
      "execution_count": 89,
      "outputs": [
        {
          "output_type": "stream",
          "name": "stdout",
          "text": [
            "{1: 'Beetle', 2: 'Octopus', 3: 'Frog', 4: 'Mice'}\n"
          ]
        }
      ]
    },
    {
      "cell_type": "code",
      "source": [
        "dict_err[4]"
      ],
      "metadata": {
        "colab": {
          "base_uri": "https://localhost:8080/",
          "height": 37
        },
        "id": "GkWJWe3L4-Ec",
        "outputId": "c22d6139-4236-46d0-df96-8fa5cfc24331"
      },
      "id": "GkWJWe3L4-Ec",
      "execution_count": 88,
      "outputs": [
        {
          "output_type": "execute_result",
          "data": {
            "text/plain": [
              "'Mice'"
            ],
            "application/vnd.google.colaboratory.intrinsic+json": {
              "type": "string"
            }
          },
          "metadata": {},
          "execution_count": 88
        }
      ]
    },
    {
      "cell_type": "code",
      "execution_count": 90,
      "id": "b96fadb3",
      "metadata": {
        "colab": {
          "base_uri": "https://localhost:8080/",
          "height": 201
        },
        "id": "b96fadb3",
        "outputId": "702485bd-aa57-4ae7-a25b-1ef84d8856ed"
      },
      "outputs": [
        {
          "output_type": "error",
          "ename": "TypeError",
          "evalue": "ignored",
          "traceback": [
            "\u001b[0;31m---------------------------------------------------------------------------\u001b[0m",
            "\u001b[0;31mTypeError\u001b[0m                                 Traceback (most recent call last)",
            "\u001b[0;32m<ipython-input-90-aea4cc6eff9c>\u001b[0m in \u001b[0;36m<cell line: 4>\u001b[0;34m()\u001b[0m\n\u001b[1;32m      2\u001b[0m \u001b[0mvar_21\u001b[0m \u001b[0;34m=\u001b[0m \u001b[0;34m'34'\u001b[0m\u001b[0;34m\u001b[0m\u001b[0;34m\u001b[0m\u001b[0m\n\u001b[1;32m      3\u001b[0m \u001b[0;34m\u001b[0m\u001b[0m\n\u001b[0;32m----> 4\u001b[0;31m \u001b[0mprint\u001b[0m\u001b[0;34m(\u001b[0m\u001b[0mvar_11\u001b[0m \u001b[0;34m+\u001b[0m \u001b[0mvar_21\u001b[0m\u001b[0;34m)\u001b[0m\u001b[0;34m\u001b[0m\u001b[0;34m\u001b[0m\u001b[0m\n\u001b[0m",
            "\u001b[0;31mTypeError\u001b[0m: unsupported operand type(s) for +: 'int' and 'str'"
          ]
        }
      ],
      "source": [
        "var_11 = 45\n",
        "var_21 = '34'\n",
        "\n",
        "print(var_11 + var_21)"
      ]
    },
    {
      "cell_type": "code",
      "source": [
        "print(var_11 + int(var_21))"
      ],
      "metadata": {
        "colab": {
          "base_uri": "https://localhost:8080/"
        },
        "id": "SW0by0vj5KEs",
        "outputId": "12f8b6d3-a898-4f43-a8a2-bf21bbb9921e"
      },
      "id": "SW0by0vj5KEs",
      "execution_count": 91,
      "outputs": [
        {
          "output_type": "stream",
          "name": "stdout",
          "text": [
            "79\n"
          ]
        }
      ]
    },
    {
      "cell_type": "code",
      "execution_count": 92,
      "id": "301edaa0",
      "metadata": {
        "colab": {
          "base_uri": "https://localhost:8080/",
          "height": 201
        },
        "id": "301edaa0",
        "outputId": "4d45a170-8ac2-4ea3-905b-e97343507362"
      },
      "outputs": [
        {
          "output_type": "error",
          "ename": "TypeError",
          "evalue": "ignored",
          "traceback": [
            "\u001b[0;31m---------------------------------------------------------------------------\u001b[0m",
            "\u001b[0;31mTypeError\u001b[0m                                 Traceback (most recent call last)",
            "\u001b[0;32m<ipython-input-92-df085280e2c1>\u001b[0m in \u001b[0;36m<cell line: 6>\u001b[0;34m()\u001b[0m\n\u001b[1;32m      4\u001b[0m     \u001b[0;32mreturn\u001b[0m\u001b[0;34m\u001b[0m\u001b[0;34m\u001b[0m\u001b[0m\n\u001b[1;32m      5\u001b[0m \u001b[0;34m\u001b[0m\u001b[0m\n\u001b[0;32m----> 6\u001b[0;31m \u001b[0mprint_s\u001b[0m\u001b[0;34m(\u001b[0m\u001b[0;36m23\u001b[0m\u001b[0;34m)\u001b[0m\u001b[0;34m\u001b[0m\u001b[0;34m\u001b[0m\u001b[0m\n\u001b[0m",
            "\u001b[0;31mTypeError\u001b[0m: print_s() takes 0 positional arguments but 1 was given"
          ]
        }
      ],
      "source": [
        "def print_s():\n",
        "    print(\"Hello dear\")\n",
        "    \n",
        "    return\n",
        "\n",
        "print_s(23)"
      ]
    },
    {
      "cell_type": "code",
      "source": [
        "def print_s():\n",
        "    print('hello dear')\n",
        "    return\n",
        "print_s()"
      ],
      "metadata": {
        "colab": {
          "base_uri": "https://localhost:8080/"
        },
        "id": "joK5U_CR5QOY",
        "outputId": "c873c524-ba0c-4d32-fb5a-7e96c872b3e1"
      },
      "id": "joK5U_CR5QOY",
      "execution_count": 94,
      "outputs": [
        {
          "output_type": "stream",
          "name": "stdout",
          "text": [
            "hello dear\n"
          ]
        }
      ]
    },
    {
      "cell_type": "code",
      "execution_count": null,
      "id": "9df9a995",
      "metadata": {
        "id": "9df9a995",
        "outputId": "e9431b23-8cd0-4758-c8a4-22cebb699ea2"
      },
      "outputs": [
        {
          "ename": "TypeError",
          "evalue": "'>' not supported between instances of 'str' and 'int'",
          "output_type": "error",
          "traceback": [
            "\u001b[1;31m---------------------------------------------------------------------------\u001b[0m",
            "\u001b[1;31mTypeError\u001b[0m                                 Traceback (most recent call last)",
            "\u001b[1;32m<ipython-input-50-debb13310612>\u001b[0m in \u001b[0;36m<module>\u001b[1;34m\u001b[0m\n\u001b[1;32m----> 1\u001b[1;33m \u001b[1;34m'tit'\u001b[0m \u001b[1;33m>\u001b[0m \u001b[1;36m3\u001b[0m\u001b[1;33m\u001b[0m\u001b[1;33m\u001b[0m\u001b[0m\n\u001b[0m",
            "\u001b[1;31mTypeError\u001b[0m: '>' not supported between instances of 'str' and 'int'"
          ]
        }
      ],
      "source": [
        "'tit' > 3"
      ]
    },
    {
      "cell_type": "code",
      "source": [
        "len('tit') > 3"
      ],
      "metadata": {
        "colab": {
          "base_uri": "https://localhost:8080/"
        },
        "id": "ojBKTQCv5Y0r",
        "outputId": "4d27e431-70f5-473f-a719-7a5021f916fe"
      },
      "id": "ojBKTQCv5Y0r",
      "execution_count": 95,
      "outputs": [
        {
          "output_type": "execute_result",
          "data": {
            "text/plain": [
              "False"
            ]
          },
          "metadata": {},
          "execution_count": 95
        }
      ]
    },
    {
      "cell_type": "code",
      "execution_count": 96,
      "id": "d03e34d6",
      "metadata": {
        "colab": {
          "base_uri": "https://localhost:8080/",
          "height": 184
        },
        "id": "d03e34d6",
        "outputId": "1c72d884-ac76-488a-90eb-2856aadb9afa"
      },
      "outputs": [
        {
          "output_type": "error",
          "ename": "AttributeError",
          "evalue": "ignored",
          "traceback": [
            "\u001b[0;31m---------------------------------------------------------------------------\u001b[0m",
            "\u001b[0;31mAttributeError\u001b[0m                            Traceback (most recent call last)",
            "\u001b[0;32m<ipython-input-96-4ad048f4b9fc>\u001b[0m in \u001b[0;36m<cell line: 2>\u001b[0;34m()\u001b[0m\n\u001b[1;32m      1\u001b[0m \u001b[0mtup_err\u001b[0m \u001b[0;34m=\u001b[0m \u001b[0;34m(\u001b[0m\u001b[0;34m'bit'\u001b[0m\u001b[0;34m,\u001b[0m \u001b[0;34m'eat'\u001b[0m\u001b[0;34m)\u001b[0m\u001b[0;34m\u001b[0m\u001b[0;34m\u001b[0m\u001b[0m\n\u001b[0;32m----> 2\u001b[0;31m \u001b[0mtup_err\u001b[0m\u001b[0;34m.\u001b[0m\u001b[0mappend\u001b[0m\u001b[0;34m(\u001b[0m\u001b[0;34m'kit'\u001b[0m\u001b[0;34m)\u001b[0m\u001b[0;34m\u001b[0m\u001b[0;34m\u001b[0m\u001b[0m\n\u001b[0m",
            "\u001b[0;31mAttributeError\u001b[0m: 'tuple' object has no attribute 'append'"
          ]
        }
      ],
      "source": [
        "tup_err = ('bit', 'eat')\n",
        "tup_err.append('kit')"
      ]
    },
    {
      "cell_type": "code",
      "execution_count": 98,
      "id": "6ae28250",
      "metadata": {
        "colab": {
          "base_uri": "https://localhost:8080/"
        },
        "id": "6ae28250",
        "outputId": "e70fc9cf-d756-4d38-e1bd-b71a4af7eb34"
      },
      "outputs": [
        {
          "output_type": "stream",
          "name": "stdout",
          "text": [
            "('bit', 'eat', 'kit')\n"
          ]
        }
      ],
      "source": [
        "list_err = list(tup_err)\n",
        "list_err.append('kit')\n",
        "tup_err = tuple(list_err)\n",
        "print(tup_err)"
      ]
    },
    {
      "cell_type": "code",
      "execution_count": null,
      "id": "db8fd29e",
      "metadata": {
        "id": "db8fd29e"
      },
      "outputs": [],
      "source": []
    },
    {
      "cell_type": "markdown",
      "id": "79a7d672",
      "metadata": {
        "id": "79a7d672"
      },
      "source": [
        "### Object Oriented Programing (OOP)"
      ]
    },
    {
      "cell_type": "markdown",
      "id": "e8b89c99",
      "metadata": {
        "id": "e8b89c99"
      },
      "source": [
        "Python is an object-oriented language which offers methods for creating classes and defining objects. \n",
        "\n",
        "A class is a collection instance variables and methods which together defines the nature or characteristics of an object type. Classes a basically the blue prints or templates from which objects are instantiated.\n",
        "\n",
        "An object is an instance of a class with its attributes or properties defined. A class serve as a construct for many objects"
      ]
    },
    {
      "cell_type": "code",
      "execution_count": 99,
      "id": "e88d8faa",
      "metadata": {
        "id": "e88d8faa"
      },
      "outputs": [],
      "source": [
        "# We will create a class Book for a bookseller application\n",
        "class Book:\n",
        "    \n",
        "    # __init__ is a constructor for defining the class variables\n",
        "    def __init__(self, title, quantity, author, price):\n",
        "        \n",
        "        self.title = title\n",
        "        self.quantity = quantity\n",
        "        self.author = author\n",
        "        self.price = price"
      ]
    },
    {
      "cell_type": "code",
      "execution_count": 101,
      "id": "47b15b79",
      "metadata": {
        "colab": {
          "base_uri": "https://localhost:8080/"
        },
        "id": "47b15b79",
        "outputId": "07fc84ab-33b6-4982-fdf5-20957e490648"
      },
      "outputs": [
        {
          "output_type": "stream",
          "name": "stdout",
          "text": [
            "<__main__.Book object at 0x7fce107de820>\n",
            "<__main__.Book object at 0x7fce107dea60>\n",
            "The Frog\n"
          ]
        }
      ],
      "source": [
        "# Instantiating an object of the class Book\n",
        "book_1 = Book('The Frog', 10, 'James Twain', 20)\n",
        "book_2 = Book('Moonlight stories', 5, 'Timothy sandwich', 35)\n",
        "\n",
        "# printing the books just tells us that the variables are objects of class Book with their memory locations\n",
        "print(book_1)\n",
        "print(book_2)\n",
        "print(book_1.title)"
      ]
    },
    {
      "cell_type": "code",
      "execution_count": 102,
      "id": "49720144",
      "metadata": {
        "id": "49720144"
      },
      "outputs": [],
      "source": [
        "# We can add the __repr__ method which gives details of the object attributes\n",
        "class Book:\n",
        "    \n",
        "    # __init__ is a constructor for defining the class variables\n",
        "    def __init__(self, title, quantity, author, price):\n",
        "        \n",
        "        self.title = title\n",
        "        self.quantity = quantity\n",
        "        self.author = author\n",
        "        self.price = price\n",
        "    \n",
        "    # Define some other random method for this class (get the date of book publish)\n",
        "    def get_publish(self):\n",
        "        day = str(self.price)\n",
        "        return day + '/05/2020'\n",
        "        \n",
        "    def __repr__(self):\n",
        "        return f\"Book: {self.title}, Quantity: {self.quantity}, Author: {self.author}, Price: {self.price}\""
      ]
    },
    {
      "cell_type": "code",
      "execution_count": 104,
      "id": "43553241",
      "metadata": {
        "colab": {
          "base_uri": "https://localhost:8080/"
        },
        "id": "43553241",
        "outputId": "ac56f307-6256-4169-c788-da33d6052a64"
      },
      "outputs": [
        {
          "output_type": "stream",
          "name": "stdout",
          "text": [
            "Book: The Frog, Quantity: 10, Author: James Twain, Price: 20\n",
            "Book: Moonlight stories, Quantity: 5, Author: Timothy sandwich, Price: 35\n",
            "Book: The Frog, Quantity: 10, Author: James Twain, Price: 20\n"
          ]
        },
        {
          "output_type": "execute_result",
          "data": {
            "text/plain": [
              "False"
            ]
          },
          "metadata": {},
          "execution_count": 104
        }
      ],
      "source": [
        "# Instantiating an object of the class Book\n",
        "book_1 = Book('The Frog', 10, 'James Twain', 20)\n",
        "book_2 = Book('Moonlight stories', 5, 'Timothy sandwich', 35)\n",
        "\n",
        "# printing the books just tells us that the variables are objects of class Book with their memory locations\n",
        "print(book_1)\n",
        "print(book_2)\n",
        "print(book_1.__repr__())\n",
        "book_1 == book_1.__repr__()"
      ]
    },
    {
      "cell_type": "code",
      "execution_count": 105,
      "id": "af22e020",
      "metadata": {
        "colab": {
          "base_uri": "https://localhost:8080/"
        },
        "id": "af22e020",
        "outputId": "a4321485-0794-4a51-c000-30c4dd035a1a"
      },
      "outputs": [
        {
          "output_type": "stream",
          "name": "stdout",
          "text": [
            "James Twain\n",
            "Moonlight stories\n"
          ]
        }
      ],
      "source": [
        "# We can also get the individual attribute of each book using the '.' operator\n",
        "print(book_1.author)\n",
        "print(book_2.title)"
      ]
    },
    {
      "cell_type": "code",
      "execution_count": 106,
      "id": "aa3343cb",
      "metadata": {
        "colab": {
          "base_uri": "https://localhost:8080/",
          "height": 37
        },
        "id": "aa3343cb",
        "outputId": "392685be-f09a-4585-d47d-b48f856ae3f4"
      },
      "outputs": [
        {
          "output_type": "execute_result",
          "data": {
            "text/plain": [
              "'20/05/2020'"
            ],
            "application/vnd.google.colaboratory.intrinsic+json": {
              "type": "string"
            }
          },
          "metadata": {},
          "execution_count": 106
        }
      ],
      "source": [
        "book_1.get_publish()"
      ]
    },
    {
      "cell_type": "markdown",
      "id": "c7ca48a3",
      "metadata": {
        "id": "c7ca48a3"
      },
      "source": [
        "#### Encapsulation"
      ]
    },
    {
      "cell_type": "markdown",
      "id": "55d15128",
      "metadata": {
        "id": "55d15128"
      },
      "source": [
        "This is a core concept or advantage of OOP. __Encapsulation__ provides a means of preventing unauthorized access to some instance varibles of an object. This keeps the variables hidden and inaccessible often referred to as private variables\n",
        "\n",
        "To create a private variable we use the double underscore (__variableName) in front of the variable name"
      ]
    },
    {
      "cell_type": "code",
      "execution_count": 107,
      "id": "4630429d",
      "metadata": {
        "id": "4630429d"
      },
      "outputs": [],
      "source": [
        "# Let's add some private variables to our class\n",
        "class Book:\n",
        "    \n",
        "    # __init__ is a constructor for defining the class variables\n",
        "    def __init__(self, title, quantity, author, price):\n",
        "        \n",
        "        self.title = title\n",
        "        self.quantity = quantity\n",
        "        self.author = author\n",
        "        \n",
        "        # We make the price a private variable and create another private variable 'discount'\n",
        "        self.__price = price\n",
        "        self.__discount = None\n",
        "        \n",
        "    \n",
        "    # Define some other random method for this class (get the date of book publish)\n",
        "    def get_publish(self):\n",
        "        day = str(self.price)\n",
        "        return day + '/05/2020'\n",
        "        \n",
        "    def __repr__(self):\n",
        "        return f\"Book: {self.title}, Quantity: {self.quantity}, Author: {self.author}\""
      ]
    },
    {
      "cell_type": "code",
      "execution_count": 108,
      "id": "6adaf24d",
      "metadata": {
        "colab": {
          "base_uri": "https://localhost:8080/"
        },
        "id": "6adaf24d",
        "outputId": "e34acbf5-3b90-40e1-c476-f0fb050b2c83"
      },
      "outputs": [
        {
          "output_type": "stream",
          "name": "stdout",
          "text": [
            "Book: The Frog, Quantity: 10, Author: James Twain\n",
            "Book: Moonlight stories, Quantity: 5, Author: Timothy sandwich\n"
          ]
        }
      ],
      "source": [
        "# Instantiating an object of the class Book\n",
        "book_1 = Book('The Frog', 10, 'James Twain', 20)\n",
        "book_2 = Book('Moonlight stories', 5, 'Timothy sandwich', 35)\n",
        "\n",
        "# printing the books just tells us that the variables are objects of class Book with their memory locations\n",
        "print(book_1)\n",
        "print(book_2)"
      ]
    },
    {
      "cell_type": "code",
      "execution_count": 109,
      "id": "2f514c45",
      "metadata": {
        "colab": {
          "base_uri": "https://localhost:8080/",
          "height": 218
        },
        "id": "2f514c45",
        "outputId": "3b682c54-c7e1-4cae-9d55-ac1e0151e20f"
      },
      "outputs": [
        {
          "output_type": "stream",
          "name": "stdout",
          "text": [
            "The Frog\n"
          ]
        },
        {
          "output_type": "error",
          "ename": "AttributeError",
          "evalue": "ignored",
          "traceback": [
            "\u001b[0;31m---------------------------------------------------------------------------\u001b[0m",
            "\u001b[0;31mAttributeError\u001b[0m                            Traceback (most recent call last)",
            "\u001b[0;32m<ipython-input-109-3204c7801819>\u001b[0m in \u001b[0;36m<cell line: 4>\u001b[0;34m()\u001b[0m\n\u001b[1;32m      2\u001b[0m \u001b[0;34m\u001b[0m\u001b[0m\n\u001b[1;32m      3\u001b[0m \u001b[0;31m# We are unable to print the value of the discount because it is a private variable\u001b[0m\u001b[0;34m\u001b[0m\u001b[0;34m\u001b[0m\u001b[0m\n\u001b[0;32m----> 4\u001b[0;31m \u001b[0mprint\u001b[0m\u001b[0;34m(\u001b[0m\u001b[0mbook_1\u001b[0m\u001b[0;34m.\u001b[0m\u001b[0m__discount\u001b[0m\u001b[0;34m)\u001b[0m\u001b[0;34m\u001b[0m\u001b[0;34m\u001b[0m\u001b[0m\n\u001b[0m",
            "\u001b[0;31mAttributeError\u001b[0m: 'Book' object has no attribute '__discount'"
          ]
        }
      ],
      "source": [
        "print(book_1.title)\n",
        "\n",
        "# We are unable to print the value of the discount because it is a private variable\n",
        "print(book_1.__discount)"
      ]
    },
    {
      "cell_type": "code",
      "execution_count": 110,
      "id": "0bf3846d",
      "metadata": {
        "colab": {
          "base_uri": "https://localhost:8080/",
          "height": 184
        },
        "id": "0bf3846d",
        "outputId": "c5561a88-6805-4565-ad62-d4633d7cb36b"
      },
      "outputs": [
        {
          "output_type": "error",
          "ename": "AttributeError",
          "evalue": "ignored",
          "traceback": [
            "\u001b[0;31m---------------------------------------------------------------------------\u001b[0m",
            "\u001b[0;31mAttributeError\u001b[0m                            Traceback (most recent call last)",
            "\u001b[0;32m<ipython-input-110-21f3e231c117>\u001b[0m in \u001b[0;36m<cell line: 2>\u001b[0;34m()\u001b[0m\n\u001b[1;32m      1\u001b[0m \u001b[0;31m# Price variable is now private so we can not access variable directly\u001b[0m\u001b[0;34m\u001b[0m\u001b[0;34m\u001b[0m\u001b[0m\n\u001b[0;32m----> 2\u001b[0;31m \u001b[0mprint\u001b[0m\u001b[0;34m(\u001b[0m\u001b[0mbook_2\u001b[0m\u001b[0;34m.\u001b[0m\u001b[0m__price\u001b[0m\u001b[0;34m)\u001b[0m\u001b[0;34m\u001b[0m\u001b[0;34m\u001b[0m\u001b[0m\n\u001b[0m",
            "\u001b[0;31mAttributeError\u001b[0m: 'Book' object has no attribute '__price'"
          ]
        }
      ],
      "source": [
        "# Price variable is now private so we can not access variable directly\n",
        "print(book_2.__price)"
      ]
    },
    {
      "cell_type": "code",
      "execution_count": 112,
      "id": "06568295",
      "metadata": {
        "id": "06568295"
      },
      "outputs": [],
      "source": [
        "# We can use setters and getter methods to access these variables\n",
        "class Book:\n",
        "    \n",
        "    # __init__ is a constructor for defining the class variables\n",
        "    def __init__(self, title, quantity, author, price):\n",
        "        \n",
        "        self.title = title\n",
        "        self.quantity = quantity\n",
        "        self.author = author\n",
        "        \n",
        "        # We make the price a private variable and create another private variable 'discount'\n",
        "        self.__price = price\n",
        "        self.__discount = None\n",
        "        \n",
        "    # Define a setter for discount\n",
        "    def set_discount(self, discount):\n",
        "        self.__discount = discount\n",
        "    \n",
        "    \n",
        "    # Define a getter for the price\n",
        "    def get_price(self):\n",
        "        \n",
        "        if self.quantity < 5:\n",
        "            return self.__price\n",
        "        \n",
        "        elif self.quantity > 5 and self.quantity < 20:\n",
        "            return self.__price * (1 - self.__discount)\n",
        "        \n",
        "        else:\n",
        "            return self.__price * (1 - 1.5*self.__discount)\n",
        "    \n",
        "    \n",
        "    # Define some other random method for this class (get the date of book publish)\n",
        "    def get_publish(self):\n",
        "        day = str(self.price)\n",
        "        return day + '/05/2020'\n",
        "        \n",
        "    def __repr__(self):\n",
        "        return f\"Book: {self.title}, Quantity: {self.quantity}, Author: {self.author}\""
      ]
    },
    {
      "cell_type": "code",
      "execution_count": 113,
      "id": "35193de1",
      "metadata": {
        "id": "35193de1"
      },
      "outputs": [],
      "source": [
        "# Instantiating an object of the class Book\n",
        "book_1 = Book('The Frog', 10, 'James Twain', 20)\n",
        "book_2 = Book('Moonlight stories', 5, 'Timothy sandwich', 35)"
      ]
    },
    {
      "cell_type": "code",
      "execution_count": 114,
      "id": "f475a1df",
      "metadata": {
        "colab": {
          "base_uri": "https://localhost:8080/"
        },
        "id": "f475a1df",
        "outputId": "a63b2ec3-4fd1-4b99-f482-e302722081a8"
      },
      "outputs": [
        {
          "output_type": "execute_result",
          "data": {
            "text/plain": [
              "17.0"
            ]
          },
          "metadata": {},
          "execution_count": 114
        }
      ],
      "source": [
        "# Set the discount for the book\n",
        "book_1.set_discount(0.15)\n",
        "\n",
        "# Get the price of the book using the getter method\n",
        "book_1.get_price()"
      ]
    },
    {
      "cell_type": "markdown",
      "id": "7a96398c",
      "metadata": {
        "id": "7a96398c"
      },
      "source": [
        "#### Inheritance\n",
        "\n",
        "This is another concept of OOP which allows new classes to be created off from other classes. Inheritance simply allows new classes to inherit other classes templates/blueprints (i.e. methods and variables) in creating theirs.\n",
        "\n",
        "The subclass or child class is the class that inherits. The superclass or parent class is the class from which methods and/or attributes are inherited."
      ]
    },
    {
      "cell_type": "code",
      "execution_count": 115,
      "id": "eb3b575d",
      "metadata": {
        "id": "eb3b575d"
      },
      "outputs": [],
      "source": [
        "# We can add new subclasses to our main Book class; A subclass can be a Novel class or Academic class.\n",
        "# A Novel is a book same as Academic book, so it makes sense to inherit methods and variables from the Book class\n",
        "\n",
        "# To create a subclass we use the class keyword as usual but reference the name of the parent class in parentheses\n",
        "# References the parent class as \"Book\"\n",
        "\n",
        "class Novel(Book):\n",
        "    \n",
        "    # This is the constructor for the Novel class\n",
        "    def __init__(self, title, quantity, author, price, pages):\n",
        "        \n",
        "        # This initializes the instance variables inherited from the parent class \n",
        "        super().__init__(title, quantity, author, price)\n",
        "        \n",
        "        # This declares a new variable for this class\n",
        "        self.pages = pages\n",
        "        \n",
        "    def get_rating(self):\n",
        "        return 3.5\n"
      ]
    },
    {
      "cell_type": "code",
      "execution_count": 116,
      "id": "6b18d422",
      "metadata": {
        "id": "6b18d422"
      },
      "outputs": [],
      "source": [
        "novel_book = Novel('The london bridge', 23, 'Rit Brian', 20, 109)"
      ]
    },
    {
      "cell_type": "code",
      "execution_count": 117,
      "id": "6ac73e4f",
      "metadata": {
        "colab": {
          "base_uri": "https://localhost:8080/",
          "height": 37
        },
        "id": "6ac73e4f",
        "outputId": "be133091-ae49-43ae-f643-c3bcb97bed42"
      },
      "outputs": [
        {
          "output_type": "execute_result",
          "data": {
            "text/plain": [
              "'The london bridge'"
            ],
            "application/vnd.google.colaboratory.intrinsic+json": {
              "type": "string"
            }
          },
          "metadata": {},
          "execution_count": 117
        }
      ],
      "source": [
        "# We can access this instance from the super class\n",
        "novel_book.title"
      ]
    },
    {
      "cell_type": "code",
      "execution_count": 118,
      "id": "e991cfa2",
      "metadata": {
        "colab": {
          "base_uri": "https://localhost:8080/"
        },
        "id": "e991cfa2",
        "outputId": "5df14198-350d-4441-840c-f8dc29d2f2dd"
      },
      "outputs": [
        {
          "output_type": "execute_result",
          "data": {
            "text/plain": [
              "17.0"
            ]
          },
          "metadata": {},
          "execution_count": 118
        }
      ],
      "source": [
        "# Both method accessed through the parent class\n",
        "novel_book.set_discount(0.10)\n",
        "novel_book.get_price()"
      ]
    },
    {
      "cell_type": "code",
      "execution_count": 119,
      "id": "3192c7d3",
      "metadata": {
        "colab": {
          "base_uri": "https://localhost:8080/"
        },
        "id": "3192c7d3",
        "outputId": "4817ea5f-d03e-46c6-fbb3-da8999564df8"
      },
      "outputs": [
        {
          "output_type": "stream",
          "name": "stdout",
          "text": [
            "109\n",
            "3.5\n"
          ]
        }
      ],
      "source": [
        "# We can also access its own method and instance variables\n",
        "print(novel_book.pages)\n",
        "print(novel_book.get_rating())"
      ]
    },
    {
      "cell_type": "markdown",
      "id": "59166beb",
      "metadata": {
        "id": "59166beb"
      },
      "source": [
        "#### Polymorphism\n",
        "\n",
        " This is the ability of a subclass to change a method which already exists in the parent class to meet its own needs"
      ]
    },
    {
      "cell_type": "code",
      "execution_count": 120,
      "id": "d75134b4",
      "metadata": {
        "colab": {
          "base_uri": "https://localhost:8080/"
        },
        "id": "d75134b4",
        "outputId": "be2a5b85-8918-4666-bd80-6d2e75df5f62"
      },
      "outputs": [
        {
          "output_type": "stream",
          "name": "stdout",
          "text": [
            "Book: The london bridge, Quantity: 23, Author: Rit Brian\n"
          ]
        }
      ],
      "source": [
        "# The __repr__ exist in the parent class Book is used for printing\n",
        "# Novel class also inherited this method\n",
        "\n",
        "print(novel_book)"
      ]
    },
    {
      "cell_type": "code",
      "execution_count": 121,
      "id": "1d4561a1",
      "metadata": {
        "id": "1d4561a1"
      },
      "outputs": [],
      "source": [
        "# We can overide that method in the parent class by redefining it in this subclass\n",
        "class Novel(Book):\n",
        "    \n",
        "    # This is the constructor for the Novel class\n",
        "    def __init__(self, title, quantity, author, price, pages):\n",
        "        \n",
        "        # This initializes the instance variables inherited from the parent class \n",
        "        super().__init__(title, quantity, author, price)\n",
        "        \n",
        "        # This declares a new variable for this class\n",
        "        self.pages = pages\n",
        "        \n",
        "    def get_rating(self):\n",
        "        return 3.5\n",
        "    \n",
        "    def __repr__(self):\n",
        "        return f\"Book: {self.title}, Quantity: {self.quantity}, Author: {self.author}, Pages:{self.pages}, Price:{self.get_price()}\"\n",
        "        "
      ]
    },
    {
      "cell_type": "code",
      "execution_count": 122,
      "id": "322f5b5c",
      "metadata": {
        "colab": {
          "base_uri": "https://localhost:8080/"
        },
        "id": "322f5b5c",
        "outputId": "a3c46f21-a59d-436e-f9fe-9f218abfb368"
      },
      "outputs": [
        {
          "output_type": "stream",
          "name": "stdout",
          "text": [
            "Book: The london bridge, Quantity: 23, Author: Rit Brian, Pages:109, Price:14.0\n"
          ]
        }
      ],
      "source": [
        "novel_book2 = Novel('The london bridge', 23, 'Rit Brian', 20, 109)\n",
        "novel_book2.set_discount(0.20)\n",
        "\n",
        "# The new print style uses the one defined in the subclass and not the parentclass\n",
        "print(novel_book2)"
      ]
    },
    {
      "cell_type": "markdown",
      "id": "1a5d6473",
      "metadata": {
        "id": "1a5d6473"
      },
      "source": [
        "##### NB: Python does not support method overloading i.e., you can not use same name for different methods in a class even if their return type and/or number of arguments are different as you would do in other programming languages"
      ]
    },
    {
      "cell_type": "code",
      "execution_count": null,
      "id": "1bc52d43",
      "metadata": {
        "id": "1bc52d43"
      },
      "outputs": [],
      "source": []
    }
  ],
  "metadata": {
    "kernelspec": {
      "display_name": "Python 3",
      "language": "python",
      "name": "python3"
    },
    "language_info": {
      "codemirror_mode": {
        "name": "ipython",
        "version": 3
      },
      "file_extension": ".py",
      "mimetype": "text/x-python",
      "name": "python",
      "nbconvert_exporter": "python",
      "pygments_lexer": "ipython3",
      "version": "3.8.8"
    },
    "colab": {
      "provenance": [],
      "include_colab_link": true
    }
  },
  "nbformat": 4,
  "nbformat_minor": 5
}